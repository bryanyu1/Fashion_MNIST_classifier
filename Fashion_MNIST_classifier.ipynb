{
 "cells": [
  { 
   "cell_type": "markdown",
   "metadata": {
    "colab_type": "text",
    "id": "bC7-g3yGJCdW"
   },
   "source": [
    "# Fashion-MNIST Neural Network\n",
    "\n",
    "This notebook implements a simple NN consisting of two dense layers, and uses this network to classify Fashion-MNIST images.\n",
    "\n",
    "These Fashion-MNIST images consist of clothing items from these ten classes. (*T-shirt/top, Trouser, Pullover, Dress, Coat, Sandal, Shirt, Sneaker, Bag, Ankle boot)*"
   ]
  },
  {
   "cell_type": "markdown",
   "metadata": {
    "colab_type": "text",
    "id": "Sy_y_E9_NFc8"
   },
   "source": [
    "## Import Libraries\n",
    "\n",
    "Import TensorFlow, Numpy, and Matplotlib libraries.  \n",
    "\n",
    "Numpy is a powerful n-dimensional array library that\n",
    "allows us to easily create and manipulate arrays of data, and more!\n",
    "\n",
    "Numpy also allows us to convert TensorFlow's native data structures,\n",
    "to Python native data types.\n",
    "\n",
    "Matplotlib is a graphics plot library"
   ]
  },
  {
   "cell_type": "code",
   "execution_count": 1,
   "metadata": {
    "colab": {},
    "colab_type": "code",
    "id": "RgDK_bJeJpua",
    "scrolled": true
   },
   "outputs": [
    {
     "name": "stdout",
     "output_type": "stream",
     "text": [
      "2.0.0\n"
     ]
    }
   ],
   "source": [
    "# Import libraries\n",
    "import tensorflow as tf\n",
    "import numpy as np\n",
    "import matplotlib.pyplot as plt\n",
    "\n",
    "print(tf.__version__)"
   ]
  },
  {
   "cell_type": "markdown",
   "metadata": {},
   "source": [
    "Fixing GPU error when training models. "
   ]
  },
  {
   "cell_type": "code",
   "execution_count": 2,
   "metadata": {},
   "outputs": [],
   "source": [
    "import os\n",
    "\n",
    "os.environ['KMP_DUPLICATE_LIB_OK']='True'"
   ]
  },
  {
   "cell_type": "markdown",
   "metadata": {
    "colab_type": "text",
    "id": "EMWdw_E_QPhY"
   },
   "source": [
    "## Problem Statement\n",
    "\n",
    "Using example data, train a model that will correctly predict the class of images of fashion items.\n",
    "\n"
   ]
  },
  {
   "cell_type": "markdown",
   "metadata": {
    "colab_type": "text",
    "id": "N49Xfo21RTr9"
   },
   "source": [
    "## Get Data\n",
    "\n",
    "### About the Fashion-MNIST dataset\n",
    "\n",
    "The Fashion-MNIST dataset is a widely available dataset.  It is documented at the https://github.com/zalandoresearch/fashion-mnist\n",
    "\n",
    "Each image in the dataset is 28 X 28 pixels.  The pixel values are a grayscale with values ranging from 0 to 255.\n",
    "\n",
    "Associated with each image is a number from 0 to 9 specifying the class of the fashion item in the image.  The values for the classes are:\n",
    "\n",
    "| Label | Description |\n",
    "|-------|-------------|\n",
    "| 0     | T-shirt/top |\n",
    "|   1    | Trouser    | \n",
    "|  2     |  Pullover  |\n",
    "|   3    |    Dress    |\n",
    "|    4   |    Coat      |\n",
    "|   5    | Sandal     |\n",
    "|   6    | Shirt         |\n",
    "|    7   |  Sneaker  |\n",
    "|   8    |  Bag          |\n",
    "|  9     | Ankle boot |\n",
    "\n",
    "There are 60,000 Training examples and 10,000 Testing examples. "
   ]
  },
  {
   "cell_type": "markdown",
   "metadata": {
    "colab_type": "text",
    "id": "qswhm4c7nMVl"
   },
   "source": [
    "We will need these class names later in the code.  So we create an list of names we can index by the class label number.  For example, class_names[2] = 'Pullover' and class_names[9] = 'Ankle boot'."
   ]
  },
  {
   "cell_type": "code",
   "execution_count": 3,
   "metadata": {
    "colab": {},
    "colab_type": "code",
    "id": "zK737-ABm7od"
   },
   "outputs": [],
   "source": [
    "# Define class names to display\n",
    "class_names = ['T-shirt/top', 'Trouser', 'Pullover', 'Dress', 'Coat',\n",
    "                  'Sandal', 'Shirt', 'Sneaker', 'Bag', 'Ankle boot']"
   ]
  },
  {
   "cell_type": "markdown",
   "metadata": {
    "colab_type": "text",
    "id": "YcAJeHCCm_TW"
   },
   "source": [
    "Fashion-MNIST is one of the datasets provided with Keras in Tensorflow.  Keras' Dataset library provides a load_data() method that will download the dataset of 60,000 Training images and their corresponding 60,000 labels, and 10,000 Test images and their corresponding 10,000 labels."
   ]
  },
  {
   "cell_type": "code",
   "execution_count": 4,
   "metadata": {
    "colab": {},
    "colab_type": "code",
    "id": "1MMs613GNLe4"
   },
   "outputs": [],
   "source": [
    "fashion_mnist = tf.keras.datasets.fashion_mnist\n",
    "(train_images, train_labels), (test_images, test_labels) = fashion_mnist.load_data()"
   ]
  },
  {
   "cell_type": "markdown",
   "metadata": {
    "colab_type": "text",
    "id": "oAcxPIjJkLKZ"
   },
   "source": [
    "### Explore the data\n",
    "\n",
    "Let's look at our data."
   ]
  },
  {
   "cell_type": "code",
   "execution_count": 5,
   "metadata": {
    "colab": {},
    "colab_type": "code",
    "id": "Umx96CdYV-yz"
   },
   "outputs": [
    {
     "name": "stdout",
     "output_type": "stream",
     "text": [
      "Training data: (60000, 28, 28) (60000,)\n",
      "Test data: (10000, 28, 28) (10000,)\n"
     ]
    }
   ],
   "source": [
    "# Print the shape of the data tensors we loaded.  Should be:\n",
    "#   60,000 training 28X28 images and their labels, and 10,000 testing images and their labels\n",
    "print ('Training data:', train_images.shape, train_labels.shape)\n",
    "print ('Test data:', test_images.shape, test_labels.shape)"
   ]
  },
  {
   "cell_type": "markdown",
   "metadata": {
    "colab_type": "text",
    "id": "4Jq_XBs9Xa6C"
   },
   "source": [
    "### Inspect data\n",
    "Each image should be a 28 X 28 image and have a gray scale value of 0-255. Let's display an arbitrary image.\n",
    "\n",
    "You should see:  \n",
    "* A title that specifies the class of the image, whose description is shown on the table above.\n",
    "* The image \n",
    "* The 28 by 28 width and height pixel index \n",
    "* and on the right the grayscale legend associated with the pixel values."
   ]
  },
  {
   "cell_type": "code",
   "execution_count": 6,
   "metadata": {
    "colab": {},
    "colab_type": "code",
    "id": "ni0bRFhjWP1y"
   },
   "outputs": [],
   "source": [
    "def show_training_image(index):\n",
    "  img_label = str(train_labels[index]) + ' (' +  class_names[train_labels[index]] + ')'\n",
    "  plt.figure()\n",
    "  plt.title('Image Label ' + img_label) \n",
    "  plt.imshow(train_images[index], cmap='gray')  # data is grayscale, but displays in color without cmap='gray'\n",
    "  plt.colorbar()\n",
    "  plt.show()"
   ]
  },
  {
   "cell_type": "code",
   "execution_count": 7,
   "metadata": {
    "colab": {},
    "colab_type": "code",
    "id": "gJa1Wq_4acop"
   },
   "outputs": [
    {
     "data": {
      "image/png": "[encoded data removed]",
      "text/plain": [
       "<Figure size 432x288 with 2 Axes>"
      ]
     },
     "metadata": {
      "needs_background": "light"
     },
     "output_type": "display_data"
    }
   ],
   "source": [
    "img_index = 100\n",
    "show_training_image(img_index)"
   ]
  },
  {
   "cell_type": "markdown",
   "metadata": {
    "colab_type": "text",
    "id": "Db_TW6wccWHw"
   },
   "source": [
    "## Prepare Data\n",
    "\n",
    "As usual we need to do some pre-processing of the data.  Here we want to scale the pixels values from 0 to 255 to 0.0 to 1.0.  We scale both the training and testing image values."
   ]
  },
  {
   "cell_type": "code",
   "execution_count": 8,
   "metadata": {
    "colab": {},
    "colab_type": "code",
    "id": "o0vDE9tBYUWx"
   },
   "outputs": [
    {
     "data": {
      "image/png": "[encoded data removed]",
      "text/plain": [
       "<Figure size 432x288 with 2 Axes>"
      ]
     },
     "metadata": {
      "needs_background": "light"
     },
     "output_type": "display_data"
    }
   ],
   "source": [
    "# scale training and testing image values\n",
    "train_images = train_images / 255.0\n",
    "test_images = test_images / 255.0\n",
    "\n",
    "# Print the image again and notice the values now range from 0 to 1.\n",
    "#   And the image looks the same, just on a different scale. \n",
    "show_training_image(img_index)"
   ]
  },
  {
   "cell_type": "markdown",
   "metadata": {
    "colab_type": "text",
    "id": "ZAAj8oXkeBsY"
   },
   "source": [
    "## Create Model\n",
    "\n",
    "We can now create the model we are going to train with the data.\n",
    "\n",
    "This will be a simple model that:\n",
    "* Flattens the 28 X 28 pixel values into a long stream of 28 by 28 = 784 pixel values - Note this is a Keras layer but is not a neural network layer. Notice the input_shape parameter contains only the shape of a single data element.  There are n data elements each with this same shape. \n",
    "* Passes each pixel value as the input to each of the 128 neurons.  \n",
    "* And finally passes values to the last layer that contains 10 neurons, one for each of the ten classes (t-shirt, pullover, etc).  Each of these 10 neurons uses the Softmax activation function to determine the probability that the image is each class.  The final output from the model is a vector of probabilities that the image is of each class.  Such as :\n",
    "[0.01, 0.05, 0.04, 0.06, 0.50, 0.20, 0.04, 0.00, 0.03, 0.07].  This example vector adds up to 1.0 and shows the probability that the image is class 0 (T-shirt/top) is 0.01 (1%), class 1 (Trousers) is 0.05 (5%), class 2 (Pullover) is 0.04 (4%), ....\n"
   ]
  },
  {
   "cell_type": "code",
   "execution_count": 9,
   "metadata": {
    "colab": {},
    "colab_type": "code",
    "id": "0N2R893MdSZn"
   },
   "outputs": [],
   "source": [
    "\n",
    "model = tf.keras.models.Sequential()      # Create a new sequential model\n",
    "model.add(tf.keras.layers.Flatten(input_shape=(28,28)))    # keras processing layer - no neurons\n",
    "model.add(tf.keras.layers.Dense(128, activation='relu', name='dense-128-relu'))   # 128 neurons connected to pixels\n",
    "model.add(tf.keras.layers.Dense(10, activation='softmax', name='dense-10-softmax')) # determines probability of each of the 10 classes"
   ]
  },
  {
   "cell_type": "markdown",
   "metadata": {
    "colab_type": "text",
    "id": "6nu2185LTBq8"
   },
   "source": [
    "### Structure of the model\n",
    "\n",
    "To make it easy for us to visualize the model, Keras models have a summary method.  When we call it we see our model structure.  \n",
    "\n",
    "For completeness we also show the shape of the input data.\n"
   ]
  },
  {
   "cell_type": "code",
   "execution_count": 10,
   "metadata": {
    "colab": {},
    "colab_type": "code",
    "id": "0gXXuAqQURdH"
   },
   "outputs": [
    {
     "name": "stdout",
     "output_type": "stream",
     "text": [
      "Input Shape: (60000, 28, 28)\n",
      "\n",
      "Model: \"sequential\"\n",
      "_________________________________________________________________\n",
      "Layer (type)                 Output Shape              Param #   \n",
      "=================================================================\n",
      "flatten (Flatten)            (None, 784)               0         \n",
      "_________________________________________________________________\n",
      "dense-128-relu (Dense)       (None, 128)               100480    \n",
      "_________________________________________________________________\n",
      "dense-10-softmax (Dense)     (None, 10)                1290      \n",
      "=================================================================\n",
      "Total params: 101,770\n",
      "Trainable params: 101,770\n",
      "Non-trainable params: 0\n",
      "_________________________________________________________________\n",
      "None\n"
     ]
    }
   ],
   "source": [
    "print('Input Shape:', train_images.shape)\n",
    "print()\n",
    "print(model.summary())"
   ]
  },
  {
   "cell_type": "markdown",
   "metadata": {
    "colab_type": "text",
    "id": "BJTmzxCJ3Bpi"
   },
   "source": [
    "### Compile the model\n",
    "\n",
    "Before we can train the model we need to specify how the model will learn from the training data.  To do this we specify:\n",
    "*  loss - how we measure loss (error).  We will use sparse_categorical_crossentropy, which determines the highest predicted class and calculates loss based on how often this is the correct class.\n",
    "*     optimizer - how the model will update the model's weights to reduce the loss.  We use the Adam variant of Mini-batch Gradient Descent.\n",
    "* metrics  - the metrics used for evaluation of training and test.  In this case we use accuracy, that is how often the images are correctly classified.  Higher is better. (1.00 would be perfect (100%), 0,75 = 75%, 0.25 = 25%, ...) \n"
   ]
  },
  {
   "cell_type": "code",
   "execution_count": 11,
   "metadata": {
    "colab": {},
    "colab_type": "code",
    "id": "TW9pZ8kw2Nid"
   },
   "outputs": [],
   "source": [
    "model.compile(optimizer='adam',\n",
    "              loss='sparse_categorical_crossentropy',\n",
    "              metrics=['accuracy'])"
   ]
  },
  {
   "cell_type": "markdown",
   "metadata": {
    "colab_type": "text",
    "id": "T7wyz8jh6ZA6"
   },
   "source": [
    "## Train the Model\n",
    "Now that we have our data and model, and have specified how the model will learn from the data we can train it."
   ]
  },
  {
   "cell_type": "code",
   "execution_count": 12,
   "metadata": {
    "colab": {},
    "colab_type": "code",
    "id": "osxdZq5y6qF1"
   },
   "outputs": [
    {
     "name": "stdout",
     "output_type": "stream",
     "text": [
      "Train on 60000 samples\n",
      "Epoch 1/40\n",
      "60000/60000 [==============================] - 6s 95us/sample - loss: 0.5028 - accuracy: 0.8238\n",
      "Epoch 2/40\n",
      "60000/60000 [==============================] - 5s 86us/sample - loss: 0.3748 - accuracy: 0.8650\n",
      "Epoch 3/40\n",
      "60000/60000 [==============================] - 5s 86us/sample - loss: 0.3384 - accuracy: 0.8770\n",
      "Epoch 4/40\n",
      "60000/60000 [==============================] - 5s 86us/sample - loss: 0.3134 - accuracy: 0.8842\n",
      "Epoch 5/40\n",
      "60000/60000 [==============================] - 5s 85us/sample - loss: 0.2935 - accuracy: 0.8912\n",
      "Epoch 6/40\n",
      "60000/60000 [==============================] - 5s 89us/sample - loss: 0.2795 - accuracy: 0.8965\n",
      "Epoch 7/40\n",
      "60000/60000 [==============================] - 5s 87us/sample - loss: 0.2692 - accuracy: 0.9003\n",
      "Epoch 8/40\n",
      "60000/60000 [==============================] - 5s 86us/sample - loss: 0.2577 - accuracy: 0.9042\n",
      "Epoch 9/40\n",
      "60000/60000 [==============================] - 5s 86us/sample - loss: 0.2490 - accuracy: 0.9072\n",
      "Epoch 10/40\n",
      "60000/60000 [==============================] - 5s 89us/sample - loss: 0.2385 - accuracy: 0.9107\n",
      "Epoch 11/40\n",
      "60000/60000 [==============================] - 5s 86us/sample - loss: 0.2324 - accuracy: 0.9127\n",
      "Epoch 12/40\n",
      "60000/60000 [==============================] - 5s 86us/sample - loss: 0.2235 - accuracy: 0.9169\n",
      "Epoch 13/40\n",
      "60000/60000 [==============================] - 5s 87us/sample - loss: 0.2172 - accuracy: 0.9183\n",
      "Epoch 14/40\n",
      "60000/60000 [==============================] - 5s 88us/sample - loss: 0.2121 - accuracy: 0.9205\n",
      "Epoch 15/40\n",
      "60000/60000 [==============================] - 5s 86us/sample - loss: 0.2036 - accuracy: 0.9227\n",
      "Epoch 16/40\n",
      "60000/60000 [==============================] - 6s 104us/sample - loss: 0.1997 - accuracy: 0.9244\n",
      "Epoch 17/40\n",
      "60000/60000 [==============================] - 6s 95us/sample - loss: 0.1948 - accuracy: 0.9270\n",
      "Epoch 18/40\n",
      "60000/60000 [==============================] - 6s 96us/sample - loss: 0.1895 - accuracy: 0.9288\n",
      "Epoch 19/40\n",
      "60000/60000 [==============================] - 6s 96us/sample - loss: 0.1857 - accuracy: 0.9299\n",
      "Epoch 20/40\n",
      "60000/60000 [==============================] - 5s 89us/sample - loss: 0.1790 - accuracy: 0.9322\n",
      "Epoch 21/40\n",
      "60000/60000 [==============================] - 5s 87us/sample - loss: 0.1750 - accuracy: 0.9339\n",
      "Epoch 22/40\n",
      "60000/60000 [==============================] - 5s 86us/sample - loss: 0.1720 - accuracy: 0.9349\n",
      "Epoch 23/40\n",
      "60000/60000 [==============================] - 5s 86us/sample - loss: 0.1665 - accuracy: 0.9374\n",
      "Epoch 24/40\n",
      "60000/60000 [==============================] - 5s 88us/sample - loss: 0.1635 - accuracy: 0.9391\n",
      "Epoch 25/40\n",
      "60000/60000 [==============================] - 5s 88us/sample - loss: 0.1591 - accuracy: 0.9398\n",
      "Epoch 26/40\n",
      "60000/60000 [==============================] - 5s 86us/sample - loss: 0.1572 - accuracy: 0.9406\n",
      "Epoch 27/40\n",
      "60000/60000 [==============================] - 5s 87us/sample - loss: 0.1519 - accuracy: 0.9425\n",
      "Epoch 28/40\n",
      "60000/60000 [==============================] - 5s 88us/sample - loss: 0.1498 - accuracy: 0.9429\n",
      "Epoch 29/40\n",
      "60000/60000 [==============================] - 5s 87us/sample - loss: 0.1441 - accuracy: 0.9457\n",
      "Epoch 30/40\n",
      "60000/60000 [==============================] - 5s 87us/sample - loss: 0.1427 - accuracy: 0.9462\n",
      "Epoch 31/40\n",
      "60000/60000 [==============================] - 5s 88us/sample - loss: 0.1394 - accuracy: 0.9482\n",
      "Epoch 32/40\n",
      "60000/60000 [==============================] - 5s 87us/sample - loss: 0.1367 - accuracy: 0.9486\n",
      "Epoch 33/40\n",
      "60000/60000 [==============================] - 5s 89us/sample - loss: 0.1342 - accuracy: 0.9500\n",
      "Epoch 34/40\n",
      "60000/60000 [==============================] - 5s 87us/sample - loss: 0.1302 - accuracy: 0.9502\n",
      "Epoch 35/40\n",
      "60000/60000 [==============================] - 5s 87us/sample - loss: 0.1282 - accuracy: 0.9515\n",
      "Epoch 36/40\n",
      "60000/60000 [==============================] - 5s 89us/sample - loss: 0.1261 - accuracy: 0.9525\n",
      "Epoch 37/40\n",
      "60000/60000 [==============================] - 5s 87us/sample - loss: 0.1230 - accuracy: 0.9529\n",
      "Epoch 38/40\n",
      "60000/60000 [==============================] - 5s 91us/sample - loss: 0.1217 - accuracy: 0.9533\n",
      "Epoch 39/40\n",
      "60000/60000 [==============================] - 5s 88us/sample - loss: 0.1194 - accuracy: 0.9548\n",
      "Epoch 40/40\n",
      "60000/60000 [==============================] - 5s 90us/sample - loss: 0.1163 - accuracy: 0.9561\n"
     ]
    }
   ],
   "source": [
    "train_hist = model.fit(train_images, train_labels, epochs=40)"
   ]
  },
  {
   "cell_type": "markdown",
   "metadata": {
    "colab_type": "text",
    "id": "R2TLdEfR9tus"
   },
   "source": [
    "Plot the training to makes sure it is converging."
   ]
  },
  {
   "cell_type": "code",
   "execution_count": 13,
   "metadata": {
    "colab": {},
    "colab_type": "code",
    "id": "5hCztJ2o90DS"
   },
   "outputs": [],
   "source": [
    "def plot_acc(hist):\n",
    "  # plot the accuracy\n",
    "  plt.title('Accuracy History')\n",
    "  plt.plot(hist.history['accuracy'])\n",
    "  plt.ylabel('Accuracy')\n",
    "  plt.xlabel('epoch')\n",
    "  plt.show()\n",
    "  \n",
    "def plot_loss(hist):\n",
    "  # plot the loss\n",
    "  plt.title('Loss History')\n",
    "  plt.plot(hist.history['loss'])\n",
    "  plt.ylabel('loss')\n",
    "  plt.xlabel('epoch')\n",
    "  plt.show()"
   ]
  },
  {
   "cell_type": "code",
   "execution_count": 14,
   "metadata": {
    "colab": {},
    "colab_type": "code",
    "id": "Zljp5aHqv514"
   },
   "outputs": [
    {
     "data": {
      "image/png": "[encoded data removed]",
      "text/plain": [
       "<Figure size 432x288 with 1 Axes>"
      ]
     },
     "metadata": {
      "needs_background": "light"
     },
     "output_type": "display_data"
    },
    {
     "data": {
      "image/png": "[encoded data removed]",
      "text/plain": [
       "<Figure size 432x288 with 1 Axes>"
      ]
     },
     "metadata": {
      "needs_background": "light"
     },
     "output_type": "display_data"
    }
   ],
   "source": [
    "plot_loss(train_hist)\n",
    "plot_acc(train_hist)"
   ]
  },
  {
   "cell_type": "markdown",
   "metadata": {
    "colab_type": "text",
    "id": "0WOXQpc99Ttj"
   },
   "source": [
    "## Evaluate Trained Model\n",
    "\n",
    "Once we have the model trained, we need to see how it will perform on data that it was not trained on, that is, test data. \n",
    "\n",
    "We do this with Keras' evaluation function and the test dataset we retrieved earlier.\n"
   ]
  },
  {
   "cell_type": "code",
   "execution_count": 15,
   "metadata": {
    "colab": {},
    "colab_type": "code",
    "id": "9yEEjOV69uay"
   },
   "outputs": [
    {
     "name": "stdout",
     "output_type": "stream",
     "text": [
      "max training accuracy: 0.95615   test accuracy: 0.8875\n"
     ]
    }
   ],
   "source": [
    "test_loss, test_acc = model.evaluate(test_images, test_labels, verbose=0)\n",
    "\n",
    "print('max training accuracy:', max(train_hist.history['accuracy']), '  test accuracy:', test_acc)"
   ]
  },
  {
   "cell_type": "markdown",
   "metadata": {
    "colab_type": "text",
    "id": "nAB01AmFAYw6"
   },
   "source": [
    "## Training Results\n",
    "\n",
    "The model has **about 96% accuracy** on the training data.  And **only 88% accuracy** on testing data on which it was not trained. This is a classic sign that the model overfits the training data.  \n",
    "\n",
    "We need to determine how we can reduce this overfitting and get **good accuracy on both training and test data!**\n",
    "\n",
    "\n"
   ]
  },
  {
   "cell_type": "markdown",
   "metadata": {
    "colab_type": "text",
    "id": "6olDUcpiVkxe"
   },
   "source": [
    "# Monitoring and Improving our Trained Model’s Performance \n",
    "\n",
    "In this section, we want to make changes to improve the performance of our trained model.  By improved performance we mean having the model not overfit the training data and perform poorly on the testing data.\n",
    "\n",
    "There are serveral common techniques to fix this problem.  These include:\n",
    "\n",
    "1.   Reducing Model Complexity - removing neurons or layers\n",
    "2.   Dropout - Randomly removing the contributions from some neurons\n",
    "3.   Early Stopping - Terminating training as early as possible\n"
   ]
  },
  {
   "cell_type": "markdown",
   "metadata": {
    "colab_type": "text",
    "id": "gxM0Nan9ZjmK"
   },
   "source": [
    "## Monitoring performance with TensorBoard\n",
    "\n",
    "We want to ensure we are getting good data to evaluate the performance of our changes.  Fortunately the TensorFlow family include the tool **TensorBoard**.  \n",
    "\n",
    "TensorBoard provides us various ways to monitor the performance of our models including:\n",
    "\n",
    "*    Visualizing metrics such as loss and accuracy\n",
    "*    Comparision of training and evaluation metrics\n",
    "*    Visualizing the model graph (ops and layers)\n",
    "*    Viewing histograms of weights, biases, or other tensors as they change over time\n"
   ]
  },
  {
   "cell_type": "markdown",
   "metadata": {
    "colab_type": "text",
    "id": "rdydWnoYe7gy"
   },
   "source": [
    "Invoke TensorBoard from the command line."
   ]
  },
  {
   "cell_type": "code",
   "execution_count": 16,
   "metadata": {
    "colab": {},
    "colab_type": "code",
    "id": "3d1xtI7LjJyf"
   },
   "outputs": [],
   "source": [
    "import datetime"
   ]
  },
  {
   "cell_type": "code",
   "execution_count": 19,
   "metadata": {
    "colab": {},
    "colab_type": "code",
    "id": "m6dqMFnCbkC_"
   },
   "outputs": [],
   "source": [
    "# Load the tensorboard extension\n",
    "%reload_ext tensorboard"
   ]
  },
  {
   "cell_type": "code",
   "execution_count": 20,
   "metadata": {
    "colab": {},
    "colab_type": "code",
    "id": "vaXgSi2yi550"
   },
   "outputs": [],
   "source": [
    "# Clear any logs from previous runs\n",
    "!rm -rf ./logs/ "
   ]
  },
  {
   "cell_type": "code",
   "execution_count": 21,
   "metadata": {
    "colab": {},
    "colab_type": "code",
    "id": "08RQKiAXi_Yz"
   },
   "outputs": [],
   "source": [
    "# Start with a fresh model\n",
    "model = tf.keras.models.Sequential()      # Create a new sequential model\n",
    "model.add(tf.keras.layers.Flatten(input_shape=(28,28)))    # keras processing layer - no neurons\n",
    "model.add(tf.keras.layers.Dense(128, activation='relu', name='dense-128-relu'))   # 128 neurons connected to pixels\n",
    "model.add(tf.keras.layers.Dense(10, activation='softmax', name='dense-10-softmax')) # determine probability of each of the 10 classes"
   ]
  },
  {
   "cell_type": "code",
   "execution_count": 22,
   "metadata": {
    "colab": {},
    "colab_type": "code",
    "id": "Ig5AjqzkjEwM"
   },
   "outputs": [
    {
     "name": "stdout",
     "output_type": "stream",
     "text": [
      "Train on 60000 samples, validate on 10000 samples\n",
      "Epoch 1/40\n",
      "60000/60000 [==============================] - 6s 107us/sample - loss: 0.4993 - accuracy: 0.8248 - val_loss: 0.4379 - val_accuracy: 0.8449\n",
      "Epoch 2/40\n",
      "60000/60000 [==============================] - 6s 99us/sample - loss: 0.3752 - accuracy: 0.8651 - val_loss: 0.3822 - val_accuracy: 0.8622\n",
      "Epoch 3/40\n",
      "60000/60000 [==============================] - 6s 100us/sample - loss: 0.3379 - accuracy: 0.8770 - val_loss: 0.3639 - val_accuracy: 0.8709\n",
      "Epoch 4/40\n",
      "60000/60000 [==============================] - 6s 100us/sample - loss: 0.3139 - accuracy: 0.8845 - val_loss: 0.3525 - val_accuracy: 0.8701\n",
      "Epoch 5/40\n",
      "60000/60000 [==============================] - 6s 101us/sample - loss: 0.2927 - accuracy: 0.8921 - val_loss: 0.3727 - val_accuracy: 0.8684\n",
      "Epoch 6/40\n",
      "60000/60000 [==============================] - 6s 104us/sample - loss: 0.2799 - accuracy: 0.8967 - val_loss: 0.3376 - val_accuracy: 0.8782\n",
      "Epoch 7/40\n",
      "60000/60000 [==============================] - 6s 102us/sample - loss: 0.2677 - accuracy: 0.8996 - val_loss: 0.3380 - val_accuracy: 0.8801\n",
      "Epoch 8/40\n",
      "60000/60000 [==============================] - 6s 99us/sample - loss: 0.2557 - accuracy: 0.9046 - val_loss: 0.3296 - val_accuracy: 0.8820\n",
      "Epoch 9/40\n",
      "60000/60000 [==============================] - 6s 99us/sample - loss: 0.2465 - accuracy: 0.9081 - val_loss: 0.3302 - val_accuracy: 0.8892\n",
      "Epoch 10/40\n",
      "60000/60000 [==============================] - 6s 103us/sample - loss: 0.2388 - accuracy: 0.9105 - val_loss: 0.3497 - val_accuracy: 0.8781\n",
      "Epoch 11/40\n",
      "60000/60000 [==============================] - 6s 100us/sample - loss: 0.2287 - accuracy: 0.9147 - val_loss: 0.3387 - val_accuracy: 0.8826\n",
      "Epoch 12/40\n",
      "60000/60000 [==============================] - 6s 98us/sample - loss: 0.2236 - accuracy: 0.9160 - val_loss: 0.3451 - val_accuracy: 0.8850\n",
      "Epoch 13/40\n",
      "60000/60000 [==============================] - 6s 98us/sample - loss: 0.2158 - accuracy: 0.9185 - val_loss: 0.3456 - val_accuracy: 0.8833\n",
      "Epoch 14/40\n",
      "60000/60000 [==============================] - 6s 98us/sample - loss: 0.2103 - accuracy: 0.9214 - val_loss: 0.3553 - val_accuracy: 0.8810\n",
      "Epoch 15/40\n",
      "60000/60000 [==============================] - 6s 99us/sample - loss: 0.2040 - accuracy: 0.9238 - val_loss: 0.3424 - val_accuracy: 0.8857\n",
      "Epoch 16/40\n",
      "60000/60000 [==============================] - 6s 97us/sample - loss: 0.1983 - accuracy: 0.9256 - val_loss: 0.3507 - val_accuracy: 0.8847\n",
      "Epoch 17/40\n",
      "60000/60000 [==============================] - 6s 100us/sample - loss: 0.1934 - accuracy: 0.9263 - val_loss: 0.3527 - val_accuracy: 0.8861\n",
      "Epoch 18/40\n",
      "60000/60000 [==============================] - 6s 98us/sample - loss: 0.1886 - accuracy: 0.9294 - val_loss: 0.3418 - val_accuracy: 0.8897\n",
      "Epoch 19/40\n",
      "60000/60000 [==============================] - 6s 98us/sample - loss: 0.1844 - accuracy: 0.9300 - val_loss: 0.3521 - val_accuracy: 0.8841\n",
      "Epoch 20/40\n",
      "60000/60000 [==============================] - 6s 99us/sample - loss: 0.1792 - accuracy: 0.9327 - val_loss: 0.3597 - val_accuracy: 0.8909\n",
      "Epoch 21/40\n",
      "60000/60000 [==============================] - 6s 98us/sample - loss: 0.1732 - accuracy: 0.9341 - val_loss: 0.3537 - val_accuracy: 0.8893\n",
      "Epoch 22/40\n",
      "60000/60000 [==============================] - 6s 99us/sample - loss: 0.1718 - accuracy: 0.9348 - val_loss: 0.3563 - val_accuracy: 0.8914\n",
      "Epoch 23/40\n",
      "60000/60000 [==============================] - 6s 99us/sample - loss: 0.1661 - accuracy: 0.9382 - val_loss: 0.3703 - val_accuracy: 0.8886\n",
      "Epoch 24/40\n",
      "60000/60000 [==============================] - 6s 98us/sample - loss: 0.1626 - accuracy: 0.9396 - val_loss: 0.3544 - val_accuracy: 0.8935\n",
      "Epoch 25/40\n",
      "60000/60000 [==============================] - 6s 99us/sample - loss: 0.1584 - accuracy: 0.9407 - val_loss: 0.3753 - val_accuracy: 0.8817\n",
      "Epoch 26/40\n",
      "60000/60000 [==============================] - 6s 98us/sample - loss: 0.1553 - accuracy: 0.9422 - val_loss: 0.3950 - val_accuracy: 0.8892\n",
      "Epoch 27/40\n",
      "60000/60000 [==============================] - 6s 98us/sample - loss: 0.1529 - accuracy: 0.9431 - val_loss: 0.3634 - val_accuracy: 0.8948\n",
      "Epoch 28/40\n",
      "60000/60000 [==============================] - 6s 97us/sample - loss: 0.1479 - accuracy: 0.9442 - val_loss: 0.3855 - val_accuracy: 0.8841\n",
      "Epoch 29/40\n",
      "60000/60000 [==============================] - 6s 98us/sample - loss: 0.1461 - accuracy: 0.9457 - val_loss: 0.4522 - val_accuracy: 0.8759\n",
      "Epoch 30/40\n",
      "60000/60000 [==============================] - 6s 99us/sample - loss: 0.1429 - accuracy: 0.9467 - val_loss: 0.4007 - val_accuracy: 0.8883\n",
      "Epoch 31/40\n",
      "60000/60000 [==============================] - 6s 98us/sample - loss: 0.1385 - accuracy: 0.9485 - val_loss: 0.3987 - val_accuracy: 0.8894\n",
      "Epoch 32/40\n",
      "60000/60000 [==============================] - 6s 97us/sample - loss: 0.1367 - accuracy: 0.9490 - val_loss: 0.4357 - val_accuracy: 0.8827\n",
      "Epoch 33/40\n",
      "60000/60000 [==============================] - 6s 99us/sample - loss: 0.1369 - accuracy: 0.9485 - val_loss: 0.4348 - val_accuracy: 0.8827\n",
      "Epoch 34/40\n",
      "60000/60000 [==============================] - 6s 98us/sample - loss: 0.1296 - accuracy: 0.9515 - val_loss: 0.3929 - val_accuracy: 0.8876\n",
      "Epoch 35/40\n",
      "60000/60000 [==============================] - 6s 98us/sample - loss: 0.1286 - accuracy: 0.9517 - val_loss: 0.4114 - val_accuracy: 0.8867\n",
      "Epoch 36/40\n",
      "60000/60000 [==============================] - 6s 100us/sample - loss: 0.1256 - accuracy: 0.9521 - val_loss: 0.4323 - val_accuracy: 0.8820\n",
      "Epoch 37/40\n",
      "60000/60000 [==============================] - 6s 101us/sample - loss: 0.1258 - accuracy: 0.9527 - val_loss: 0.4505 - val_accuracy: 0.8908\n",
      "Epoch 38/40\n",
      "60000/60000 [==============================] - 6s 99us/sample - loss: 0.1223 - accuracy: 0.9537 - val_loss: 0.4191 - val_accuracy: 0.8910\n",
      "Epoch 39/40\n",
      "60000/60000 [==============================] - 6s 98us/sample - loss: 0.1196 - accuracy: 0.9541 - val_loss: 0.4411 - val_accuracy: 0.8913\n",
      "Epoch 40/40\n",
      "60000/60000 [==============================] - 6s 99us/sample - loss: 0.1167 - accuracy: 0.9566 - val_loss: 0.4442 - val_accuracy: 0.8936\n"
     ]
    }
   ],
   "source": [
    "model.compile(optimizer='adam',\n",
    "              loss='sparse_categorical_crossentropy',\n",
    "              metrics=['accuracy'])\n",
    "\n",
    "\n",
    "log_dir='logs/fit/' + datetime.datetime.now().strftime('%Y%m%d-%H%M%S')\n",
    "tensorboard_callback = tf.keras.callbacks.TensorBoard(log_dir=log_dir, histogram_freq=1)\n",
    "\n",
    "# We add to the fit method the validation/test data.  This will cause the training model \n",
    "# to evaluate itself on the validation/test data on each epoch.  This provides per \n",
    "# epoch data points TensorBoard can plot so we can see the trend.\n",
    "train_hist = model.fit(train_images, train_labels, epochs=40,\n",
    "                       validation_data=(test_images, test_labels), \n",
    "                        callbacks=[tensorboard_callback])"
   ]
  },
  {
   "cell_type": "code",
   "execution_count": 24,
   "metadata": {
    "colab": {},
    "colab_type": "code",
    "id": "wx9ATGksjWyV"
   },
   "outputs": [
    {
     "data": {
      "text/plain": [
       "ERROR: Failed to launch TensorBoard (exited with -4)."
      ]
     },
     "metadata": {},
     "output_type": "display_data"
    }
   ],
   "source": [
    "#!kill 1234   # sometimes TensorBoard does not show all data. If it shows reusing previous instance use kill command listed\n",
    "%tensorboard --logdir logs/fit"
   ]
  },
  {
   "cell_type": "markdown",
   "metadata": {
    "colab_type": "text",
    "id": "v05icTF1mDfB"
   },
   "source": [
    "## Fixing Fashion MNIST "
   ]
  },
  {
   "cell_type": "markdown",
   "metadata": {
    "colab_type": "text",
    "id": "E6zDDPjrFm17"
   },
   "source": [
    "### Reducing Model Complexity\n",
    "\n",
    "In a large model we can consider reducing the number of hidden layers.  But our model only has one hidden layer and we need it.  So the only thing to do is reduce the number of neurons in the hidden layer.  Everthing else is the same \n",
    "as above."
   ]
  },
  {
   "cell_type": "code",
   "execution_count": 25,
   "metadata": {
    "colab": {},
    "colab_type": "code",
    "id": "I1UvcFL9Qmps"
   },
   "outputs": [],
   "source": [
    "# Load the tensorboard extension\n",
    "%reload_ext tensorboard"
   ]
  },
  {
   "cell_type": "code",
   "execution_count": 26,
   "metadata": {
    "colab": {},
    "colab_type": "code",
    "id": "UNwSQKJyQmp-"
   },
   "outputs": [],
   "source": [
    "# Clear any logs from previous runs\n",
    "!rm -rf ./logs/ "
   ]
  },
  {
   "cell_type": "code",
   "execution_count": 27,
   "metadata": {
    "colab": {},
    "colab_type": "code",
    "id": "CCUSydw2QmqJ"
   },
   "outputs": [],
   "source": [
    "\n",
    "model = tf.keras.models.Sequential()      # Create a new sequential model\n",
    "model.add(tf.keras.layers.Flatten(input_shape=(28,28)))    # keras processing layer - no neurons\n",
    "model.add(tf.keras.layers.Dense(64, activation='relu', name='dense-64-relu'))   # 64 neurons connected to pixels\n",
    "#model.add(tf.keras.layers.Dense(128, activation='relu', name='dense-128-relu'))   # 128 neurons connected to pixels\n",
    "model.add(tf.keras.layers.Dense(10, activation='softmax', name='dense-10-softmax')) # determine probability of each of the 10 classes"
   ]
  },
  {
   "cell_type": "code",
   "execution_count": 28,
   "metadata": {
    "colab": {},
    "colab_type": "code",
    "id": "n8yt3SeaQmqN"
   },
   "outputs": [
    {
     "name": "stdout",
     "output_type": "stream",
     "text": [
      "Train on 60000 samples, validate on 10000 samples\n",
      "Epoch 1/40\n",
      "60000/60000 [==============================] - 5s 89us/sample - loss: 0.5218 - accuracy: 0.8163 - val_loss: 0.4594 - val_accuracy: 0.8328\n",
      "Epoch 2/40\n",
      "60000/60000 [==============================] - 5s 80us/sample - loss: 0.3913 - accuracy: 0.8613 - val_loss: 0.4177 - val_accuracy: 0.8527\n",
      "Epoch 3/40\n",
      "60000/60000 [==============================] - 5s 80us/sample - loss: 0.3553 - accuracy: 0.8716 - val_loss: 0.3820 - val_accuracy: 0.8633\n",
      "Epoch 4/40\n",
      "60000/60000 [==============================] - 5s 80us/sample - loss: 0.3316 - accuracy: 0.8795 - val_loss: 0.3925 - val_accuracy: 0.8603\n",
      "Epoch 5/40\n",
      "60000/60000 [==============================] - 5s 79us/sample - loss: 0.3144 - accuracy: 0.8846 - val_loss: 0.3702 - val_accuracy: 0.8649\n",
      "Epoch 6/40\n",
      "60000/60000 [==============================] - 5s 82us/sample - loss: 0.2973 - accuracy: 0.8910 - val_loss: 0.3734 - val_accuracy: 0.8641\n",
      "Epoch 7/40\n",
      "60000/60000 [==============================] - 5s 79us/sample - loss: 0.2888 - accuracy: 0.8929 - val_loss: 0.3633 - val_accuracy: 0.8700\n",
      "Epoch 8/40\n",
      "60000/60000 [==============================] - 5s 79us/sample - loss: 0.2766 - accuracy: 0.8972 - val_loss: 0.3604 - val_accuracy: 0.8695\n",
      "Epoch 9/40\n",
      "60000/60000 [==============================] - 5s 78us/sample - loss: 0.2695 - accuracy: 0.9005 - val_loss: 0.3410 - val_accuracy: 0.8786\n",
      "Epoch 10/40\n",
      "60000/60000 [==============================] - 5s 78us/sample - loss: 0.2607 - accuracy: 0.9043 - val_loss: 0.3515 - val_accuracy: 0.8761\n",
      "Epoch 11/40\n",
      "60000/60000 [==============================] - 5s 79us/sample - loss: 0.2531 - accuracy: 0.9057 - val_loss: 0.3412 - val_accuracy: 0.8809\n",
      "Epoch 12/40\n",
      "60000/60000 [==============================] - 5s 78us/sample - loss: 0.2454 - accuracy: 0.9088 - val_loss: 0.3472 - val_accuracy: 0.8801\n",
      "Epoch 13/40\n",
      "60000/60000 [==============================] - 5s 78us/sample - loss: 0.2385 - accuracy: 0.9111 - val_loss: 0.3581 - val_accuracy: 0.8822\n",
      "Epoch 14/40\n",
      "60000/60000 [==============================] - 5s 79us/sample - loss: 0.2352 - accuracy: 0.9117 - val_loss: 0.3696 - val_accuracy: 0.8725\n",
      "Epoch 15/40\n",
      "60000/60000 [==============================] - 5s 79us/sample - loss: 0.2285 - accuracy: 0.9141 - val_loss: 0.3504 - val_accuracy: 0.8791\n",
      "Epoch 16/40\n",
      "60000/60000 [==============================] - 5s 80us/sample - loss: 0.2229 - accuracy: 0.9172 - val_loss: 0.3478 - val_accuracy: 0.8797\n",
      "Epoch 17/40\n",
      "60000/60000 [==============================] - 5s 79us/sample - loss: 0.2162 - accuracy: 0.9185 - val_loss: 0.3714 - val_accuracy: 0.8729\n",
      "Epoch 18/40\n",
      "60000/60000 [==============================] - 5s 78us/sample - loss: 0.2119 - accuracy: 0.9209 - val_loss: 0.3613 - val_accuracy: 0.8808\n",
      "Epoch 19/40\n",
      "60000/60000 [==============================] - 5s 79us/sample - loss: 0.2083 - accuracy: 0.9218 - val_loss: 0.3658 - val_accuracy: 0.8773\n",
      "Epoch 20/40\n",
      "60000/60000 [==============================] - 5s 80us/sample - loss: 0.2044 - accuracy: 0.9246 - val_loss: 0.3772 - val_accuracy: 0.8787\n",
      "Epoch 21/40\n",
      "60000/60000 [==============================] - 5s 80us/sample - loss: 0.2024 - accuracy: 0.9238 - val_loss: 0.3746 - val_accuracy: 0.8775\n",
      "Epoch 22/40\n",
      "60000/60000 [==============================] - 5s 80us/sample - loss: 0.1975 - accuracy: 0.9254 - val_loss: 0.3508 - val_accuracy: 0.8831\n",
      "Epoch 23/40\n",
      "60000/60000 [==============================] - 5s 78us/sample - loss: 0.1936 - accuracy: 0.9274 - val_loss: 0.3662 - val_accuracy: 0.8805\n",
      "Epoch 24/40\n",
      "60000/60000 [==============================] - 5s 80us/sample - loss: 0.1885 - accuracy: 0.9297 - val_loss: 0.3617 - val_accuracy: 0.8838\n",
      "Epoch 25/40\n",
      "60000/60000 [==============================] - 5s 78us/sample - loss: 0.1860 - accuracy: 0.9306 - val_loss: 0.3571 - val_accuracy: 0.8836\n",
      "Epoch 26/40\n",
      "60000/60000 [==============================] - 5s 79us/sample - loss: 0.1825 - accuracy: 0.9309 - val_loss: 0.3676 - val_accuracy: 0.8835\n",
      "Epoch 27/40\n",
      "60000/60000 [==============================] - 5s 79us/sample - loss: 0.1800 - accuracy: 0.9333 - val_loss: 0.3794 - val_accuracy: 0.8840\n",
      "Epoch 28/40\n",
      "60000/60000 [==============================] - 5s 80us/sample - loss: 0.1761 - accuracy: 0.9342 - val_loss: 0.4025 - val_accuracy: 0.8831\n",
      "Epoch 29/40\n",
      "60000/60000 [==============================] - 5s 79us/sample - loss: 0.1767 - accuracy: 0.9344 - val_loss: 0.3911 - val_accuracy: 0.8796\n",
      "Epoch 30/40\n",
      "60000/60000 [==============================] - 5s 80us/sample - loss: 0.1729 - accuracy: 0.9345 - val_loss: 0.3875 - val_accuracy: 0.8831\n",
      "Epoch 31/40\n",
      "60000/60000 [==============================] - 5s 79us/sample - loss: 0.1706 - accuracy: 0.9360 - val_loss: 0.3900 - val_accuracy: 0.8813\n",
      "Epoch 32/40\n",
      "60000/60000 [==============================] - 5s 80us/sample - loss: 0.1667 - accuracy: 0.9384 - val_loss: 0.4008 - val_accuracy: 0.8775\n",
      "Epoch 33/40\n",
      "60000/60000 [==============================] - 5s 81us/sample - loss: 0.1645 - accuracy: 0.9383 - val_loss: 0.3957 - val_accuracy: 0.8820\n",
      "Epoch 34/40\n",
      "60000/60000 [==============================] - 5s 83us/sample - loss: 0.1619 - accuracy: 0.9395 - val_loss: 0.3872 - val_accuracy: 0.8867\n",
      "Epoch 35/40\n",
      "60000/60000 [==============================] - 5s 82us/sample - loss: 0.1617 - accuracy: 0.9398 - val_loss: 0.4070 - val_accuracy: 0.8801\n",
      "Epoch 36/40\n",
      "60000/60000 [==============================] - 5s 81us/sample - loss: 0.1585 - accuracy: 0.9398 - val_loss: 0.4056 - val_accuracy: 0.8849\n",
      "Epoch 37/40\n",
      "60000/60000 [==============================] - 5s 81us/sample - loss: 0.1535 - accuracy: 0.9428 - val_loss: 0.4206 - val_accuracy: 0.8804\n",
      "Epoch 38/40\n",
      "60000/60000 [==============================] - 5s 79us/sample - loss: 0.1548 - accuracy: 0.9422 - val_loss: 0.4038 - val_accuracy: 0.8846\n",
      "Epoch 39/40\n",
      "60000/60000 [==============================] - 5s 79us/sample - loss: 0.1518 - accuracy: 0.9442 - val_loss: 0.4109 - val_accuracy: 0.8789\n",
      "Epoch 40/40\n",
      "60000/60000 [==============================] - 5s 80us/sample - loss: 0.1490 - accuracy: 0.9442 - val_loss: 0.4187 - val_accuracy: 0.8840\n"
     ]
    }
   ],
   "source": [
    "model.compile(optimizer='adam',\n",
    "              loss='sparse_categorical_crossentropy',\n",
    "              metrics=['accuracy'])\n",
    "\n",
    "\n",
    "log_dir= 'logs/fit/' + datetime.datetime.now().strftime('%Y%m%d-%H%M%S')\n",
    "tensorboard_callback = tf.keras.callbacks.TensorBoard(log_dir=log_dir, histogram_freq=1)\n",
    "\n",
    "# We add to the fit method the validation/test data.  This will cause the training model \n",
    "# to evaluate itself on the validation/test data on each epoch.  This provides per \n",
    "# epoch data points TensorBoard can plot so we can see the trend.\n",
    "train_hist = model.fit(train_images, train_labels, epochs=40,\n",
    "                       validation_data=(test_images, test_labels), \n",
    "                        callbacks=[tensorboard_callback])"
   ]
  },
  {
   "cell_type": "markdown",
   "metadata": {
    "colab_type": "text",
    "id": "Ke-rDI6UmGaX"
   },
   "source": [
    "Show the results with TensorBoard"
   ]
  },
  {
   "cell_type": "code",
   "execution_count": 29,
   "metadata": {
    "colab": {},
    "colab_type": "code",
    "id": "hox4ABkzmFWm"
   },
   "outputs": [
    {
     "data": {
      "text/plain": [
       "ERROR: Failed to launch TensorBoard (exited with -4)."
      ]
     },
     "metadata": {},
     "output_type": "display_data"
    }
   ],
   "source": [
    "#!kill 1234   # sometime TensorBoard does not show all data.  If it shows reusing previous instance use kill command listed\n",
    "%tensorboard --logdir logs/fit"
   ]
  },
  {
   "cell_type": "markdown",
   "metadata": {
    "colab_type": "text",
    "id": "qBwxV4HjFOwT"
   },
   "source": [
    "### Randomly dropout some neurons\n",
    "\n",
    "To randomly shut down the contribution from some neurons, we add a Keras dropout layer.  This layer randomly sets the outputs from the previous layer to 0.  How many outputs are set to 0 is defined by the parameter we pass.  To set 50% of \n",
    "the outputs to 0 pass 0.5.  For 20% pass 0.2.\n",
    "\n",
    "Also, the decision on which connections get dropped is a random selection that \n",
    "changes from epoch to epoch."
   ]
  },
  {
   "cell_type": "code",
   "execution_count": 30,
   "metadata": {
    "colab": {},
    "colab_type": "code",
    "id": "xSMjk8zBpc2A"
   },
   "outputs": [],
   "source": [
    "# Load the tensorboard extension\n",
    "%reload_ext tensorboard"
   ]
  },
  {
   "cell_type": "code",
   "execution_count": 31,
   "metadata": {
    "colab": {},
    "colab_type": "code",
    "id": "3GcFNsSBpc2O"
   },
   "outputs": [],
   "source": [
    "# Clear any logs from previous runs\n",
    "!rm -rf ./logs/ "
   ]
  },
  {
   "cell_type": "code",
   "execution_count": 32,
   "metadata": {
    "colab": {},
    "colab_type": "code",
    "id": "W9SazRfplKGA"
   },
   "outputs": [],
   "source": [
    "model = tf.keras.models.Sequential()      # Create a new sequential model\n",
    "model.add(tf.keras.layers.Flatten(input_shape=(28,28)))    # keras processing layer - no neurons\n",
    "model.add(tf.keras.layers.Dense(128, activation='relu', name='dense-128-relu'))   # 128 neurons connected to pixels\n",
    "model.add(tf.keras.layers.Dropout(0.2))  # dropout 20%\n",
    "model.add(tf.keras.layers.Dense(10, activation='softmax', name='dense-10-softmax')) # determine probability of each of the 10 classes"
   ]
  },
  {
   "cell_type": "code",
   "execution_count": 33,
   "metadata": {
    "colab": {},
    "colab_type": "code",
    "id": "OM9BuhuBlWo0"
   },
   "outputs": [],
   "source": [
    "model.compile(optimizer='adam',\n",
    "              loss='sparse_categorical_crossentropy',\n",
    "              metrics=['accuracy'])"
   ]
  },
  {
   "cell_type": "code",
   "execution_count": 34,
   "metadata": {
    "colab": {},
    "colab_type": "code",
    "id": "jM5sr1YGlcIb"
   },
   "outputs": [
    {
     "name": "stdout",
     "output_type": "stream",
     "text": [
      "Train on 60000 samples, validate on 10000 samples\n",
      "Epoch 1/40\n",
      "60000/60000 [==============================] - 7s 114us/sample - loss: 0.5342 - accuracy: 0.8111 - val_loss: 0.4340 - val_accuracy: 0.8448\n",
      "Epoch 2/40\n",
      "60000/60000 [==============================] - 7s 110us/sample - loss: 0.4024 - accuracy: 0.8546 - val_loss: 0.4129 - val_accuracy: 0.8522\n",
      "Epoch 3/40\n",
      "60000/60000 [==============================] - 7s 111us/sample - loss: 0.3676 - accuracy: 0.8649 - val_loss: 0.3796 - val_accuracy: 0.8654\n",
      "Epoch 4/40\n",
      "60000/60000 [==============================] - 6s 104us/sample - loss: 0.3468 - accuracy: 0.8720 - val_loss: 0.3693 - val_accuracy: 0.8660\n",
      "Epoch 5/40\n",
      "60000/60000 [==============================] - 6s 103us/sample - loss: 0.3329 - accuracy: 0.8776 - val_loss: 0.3560 - val_accuracy: 0.8730\n",
      "Epoch 6/40\n",
      "60000/60000 [==============================] - 6s 103us/sample - loss: 0.3211 - accuracy: 0.8815 - val_loss: 0.3418 - val_accuracy: 0.8773\n",
      "Epoch 7/40\n",
      "60000/60000 [==============================] - 6s 104us/sample - loss: 0.3059 - accuracy: 0.8868 - val_loss: 0.3520 - val_accuracy: 0.8742\n",
      "Epoch 8/40\n",
      "60000/60000 [==============================] - 6s 104us/sample - loss: 0.3006 - accuracy: 0.8881 - val_loss: 0.3688 - val_accuracy: 0.8660\n",
      "Epoch 9/40\n",
      "60000/60000 [==============================] - 6s 105us/sample - loss: 0.2928 - accuracy: 0.8913 - val_loss: 0.3353 - val_accuracy: 0.8835\n",
      "Epoch 10/40\n",
      "60000/60000 [==============================] - 6s 103us/sample - loss: 0.2831 - accuracy: 0.8946 - val_loss: 0.3325 - val_accuracy: 0.8808\n",
      "Epoch 11/40\n",
      "60000/60000 [==============================] - 6s 104us/sample - loss: 0.2791 - accuracy: 0.8953 - val_loss: 0.3523 - val_accuracy: 0.8757\n",
      "Epoch 12/40\n",
      "60000/60000 [==============================] - 6s 104us/sample - loss: 0.2714 - accuracy: 0.8988 - val_loss: 0.3730 - val_accuracy: 0.8753\n",
      "Epoch 13/40\n",
      "60000/60000 [==============================] - 6s 104us/sample - loss: 0.2673 - accuracy: 0.8995 - val_loss: 0.3418 - val_accuracy: 0.8810\n",
      "Epoch 14/40\n",
      "60000/60000 [==============================] - 6s 105us/sample - loss: 0.2621 - accuracy: 0.9014 - val_loss: 0.3300 - val_accuracy: 0.8858\n",
      "Epoch 15/40\n",
      "60000/60000 [==============================] - 6s 104us/sample - loss: 0.2559 - accuracy: 0.9049 - val_loss: 0.3374 - val_accuracy: 0.8846\n",
      "Epoch 16/40\n",
      "60000/60000 [==============================] - 6s 107us/sample - loss: 0.2519 - accuracy: 0.9062 - val_loss: 0.3389 - val_accuracy: 0.8835\n",
      "Epoch 17/40\n",
      "60000/60000 [==============================] - 6s 108us/sample - loss: 0.2496 - accuracy: 0.9062 - val_loss: 0.3377 - val_accuracy: 0.8861\n",
      "Epoch 18/40\n",
      "60000/60000 [==============================] - 6s 107us/sample - loss: 0.2429 - accuracy: 0.9078 - val_loss: 0.3284 - val_accuracy: 0.8875\n",
      "Epoch 19/40\n",
      "60000/60000 [==============================] - 6s 105us/sample - loss: 0.2404 - accuracy: 0.9094 - val_loss: 0.3358 - val_accuracy: 0.8862\n",
      "Epoch 20/40\n",
      "60000/60000 [==============================] - 6s 106us/sample - loss: 0.2379 - accuracy: 0.9107 - val_loss: 0.3350 - val_accuracy: 0.8883\n",
      "Epoch 21/40\n",
      "60000/60000 [==============================] - 6s 106us/sample - loss: 0.2335 - accuracy: 0.9116 - val_loss: 0.3444 - val_accuracy: 0.8880\n",
      "Epoch 22/40\n",
      "60000/60000 [==============================] - 6s 103us/sample - loss: 0.2304 - accuracy: 0.9117 - val_loss: 0.3409 - val_accuracy: 0.8837\n",
      "Epoch 23/40\n",
      "60000/60000 [==============================] - 6s 104us/sample - loss: 0.2264 - accuracy: 0.9150 - val_loss: 0.3443 - val_accuracy: 0.8892\n",
      "Epoch 24/40\n",
      "60000/60000 [==============================] - 6s 106us/sample - loss: 0.2237 - accuracy: 0.9159 - val_loss: 0.3307 - val_accuracy: 0.8922\n",
      "Epoch 25/40\n",
      "60000/60000 [==============================] - 6s 105us/sample - loss: 0.2222 - accuracy: 0.9164 - val_loss: 0.3355 - val_accuracy: 0.8918\n",
      "Epoch 26/40\n",
      "60000/60000 [==============================] - 6s 105us/sample - loss: 0.2173 - accuracy: 0.9172 - val_loss: 0.3368 - val_accuracy: 0.8910\n",
      "Epoch 27/40\n",
      "60000/60000 [==============================] - 6s 105us/sample - loss: 0.2179 - accuracy: 0.9171 - val_loss: 0.3443 - val_accuracy: 0.8908\n",
      "Epoch 28/40\n",
      "60000/60000 [==============================] - 6s 105us/sample - loss: 0.2130 - accuracy: 0.9184 - val_loss: 0.3433 - val_accuracy: 0.8904\n",
      "Epoch 29/40\n",
      "60000/60000 [==============================] - 6s 106us/sample - loss: 0.2099 - accuracy: 0.9208 - val_loss: 0.3426 - val_accuracy: 0.8907\n",
      "Epoch 30/40\n",
      "60000/60000 [==============================] - 6s 104us/sample - loss: 0.2090 - accuracy: 0.9197 - val_loss: 0.3509 - val_accuracy: 0.8891\n",
      "Epoch 31/40\n",
      "60000/60000 [==============================] - 6s 105us/sample - loss: 0.2063 - accuracy: 0.9217 - val_loss: 0.3646 - val_accuracy: 0.8897\n",
      "Epoch 32/40\n",
      "60000/60000 [==============================] - 6s 104us/sample - loss: 0.2076 - accuracy: 0.9219 - val_loss: 0.3583 - val_accuracy: 0.8881\n",
      "Epoch 33/40\n",
      "60000/60000 [==============================] - 6s 106us/sample - loss: 0.2002 - accuracy: 0.9240 - val_loss: 0.3469 - val_accuracy: 0.8932\n",
      "Epoch 34/40\n",
      "60000/60000 [==============================] - 6s 104us/sample - loss: 0.2001 - accuracy: 0.9233 - val_loss: 0.3662 - val_accuracy: 0.8886\n",
      "Epoch 35/40\n",
      "60000/60000 [==============================] - 6s 104us/sample - loss: 0.1974 - accuracy: 0.9249 - val_loss: 0.3684 - val_accuracy: 0.8891\n",
      "Epoch 36/40\n",
      "60000/60000 [==============================] - 6s 105us/sample - loss: 0.1972 - accuracy: 0.9246 - val_loss: 0.3659 - val_accuracy: 0.8899\n",
      "Epoch 37/40\n",
      "60000/60000 [==============================] - 6s 104us/sample - loss: 0.1964 - accuracy: 0.9254 - val_loss: 0.3562 - val_accuracy: 0.8920\n",
      "Epoch 38/40\n",
      "60000/60000 [==============================] - 6s 105us/sample - loss: 0.1945 - accuracy: 0.9262 - val_loss: 0.3559 - val_accuracy: 0.8918\n",
      "Epoch 39/40\n",
      "60000/60000 [==============================] - 6s 107us/sample - loss: 0.1908 - accuracy: 0.9277 - val_loss: 0.3691 - val_accuracy: 0.8893\n",
      "Epoch 40/40\n",
      "60000/60000 [==============================] - 6s 107us/sample - loss: 0.1901 - accuracy: 0.9281 - val_loss: 0.3551 - val_accuracy: 0.8918\n"
     ]
    },
    {
     "data": {
      "text/plain": [
       "<tensorflow.python.keras.callbacks.History at 0x7f8b111028d0>"
      ]
     },
     "execution_count": 34,
     "metadata": {},
     "output_type": "execute_result"
    }
   ],
   "source": [
    "log_dir='logs/fit/' + datetime.datetime.now().strftime('%Y%m%d-%H%M%S')\n",
    "tensorboard_callback = tf.keras.callbacks.TensorBoard(log_dir=log_dir, histogram_freq=1)\n",
    "\n",
    "model.fit(x=train_images, \n",
    "          y=train_labels, \n",
    "          epochs=40, \n",
    "          validation_data=(test_images, test_labels), \n",
    "          callbacks=[tensorboard_callback])\n"
   ]
  },
  {
   "cell_type": "code",
   "execution_count": 35,
   "metadata": {
    "colab": {},
    "colab_type": "code",
    "id": "qlUy6ZlRlOZ8"
   },
   "outputs": [
    {
     "data": {
      "text/plain": [
       "ERROR: Failed to launch TensorBoard (exited with -4)."
      ]
     },
     "metadata": {},
     "output_type": "display_data"
    }
   ],
   "source": [
    "#!kill 1234   # sometime TensorBoard does not show all data.  If it shows reusing previous instance use kill command listed\n",
    "%tensorboard --logdir logs/fit"
   ]
  },
  {
   "cell_type": "markdown",
   "metadata": {
    "colab_type": "text",
    "id": "3wrym729ZWre"
   },
   "source": [
    "### Implementing Early Stopping\n",
    "\n",
    "Early stopping involves having the training stop when the model has been trained enough.  \n",
    "\n",
    "Often training is slow in terms of time, and expensive in terms of compute time on big clusters or a cloud service.  So it is useful to be able to stop training as soon as reasonable.  And reasonable is usually when the metric like lose quits decreasing.  So the question is, how can we know when the loss quits decreasing?  \n",
    "\n",
    "We could run a bunch of trials and use a tool like TensorBoard to plot curves.  But it is tedious to write a model with 20 epochs, run it, see loss was decreasing, then repeat that with 40 epochs, etc.  Worse, if we change the model or it's parameters, like adjusting the dropout percentage, the number of epochs required to see when the loss stops decreasing might be different.\n",
    "\n",
    "So what we need is an automated way to detect when training has quit improving and terminate training.  And fortunately Keras has an early stopping feature that does just this!"
   ]
  },
  {
   "cell_type": "markdown",
   "metadata": {
    "colab_type": "text",
    "id": "_lKTkBVvN2dI"
   },
   "source": [
    "We start with the same model, optimizer, loss, and log clearing code as before."
   ]
  },
  {
   "cell_type": "code",
   "execution_count": 36,
   "metadata": {
    "colab": {},
    "colab_type": "code",
    "id": "D0FSUxUT3Cuf"
   },
   "outputs": [],
   "source": [
    "# Load the tensorboard extension\n",
    "%reload_ext tensorboard"
   ]
  },
  {
   "cell_type": "code",
   "execution_count": 37,
   "metadata": {
    "colab": {},
    "colab_type": "code",
    "id": "dGm6LMEL2--j"
   },
   "outputs": [],
   "source": [
    "# Clear any logs from previous runs\n",
    "!rm -rf ./logs/ "
   ]
  },
  {
   "cell_type": "code",
   "execution_count": 38,
   "metadata": {
    "colab": {},
    "colab_type": "code",
    "id": "62luPqB8NqaI"
   },
   "outputs": [],
   "source": [
    "model = tf.keras.models.Sequential()      # Create a new sequential model\n",
    "model.add(tf.keras.layers.Flatten(input_shape=(28,28)))    # keras processing layer - no neurons\n",
    "model.add(tf.keras.layers.Dense(128, activation='relu', name='dense-128-relu'))   # 128 neurons connected to pixels\n",
    "model.add(tf.keras.layers.Dense(10, activation='softmax', name='dense-10-softmax')) # determine probability of each of the 10 classes"
   ]
  },
  {
   "cell_type": "code",
   "execution_count": 39,
   "metadata": {
    "colab": {},
    "colab_type": "code",
    "id": "ROXcHFavNqaS"
   },
   "outputs": [],
   "source": [
    "model.compile(optimizer='adam',\n",
    "              loss='sparse_categorical_crossentropy',\n",
    "              metrics=['accuracy'])"
   ]
  },
  {
   "cell_type": "markdown",
   "metadata": {
    "colab_type": "text",
    "id": "F6TY_BVDOou_"
   },
   "source": [
    "We create a new EarlyStopping callback.\n",
    "\n",
    "And we set the **monitor** parameter to the parameter to monitor, which is **validation loss**. And the  **patience** parameter to the maximum number of epochs without improvement allowed.  And if the parameter does not improve within the patience number of epochs, the training will be terminated.\n",
    "\n",
    "This new callback gets added to the list of callbacks."
   ]
  },
  {
   "cell_type": "code",
   "execution_count": 40,
   "metadata": {
    "colab": {},
    "colab_type": "code",
    "id": "1o3tiyB_NyhV"
   },
   "outputs": [
    {
     "name": "stdout",
     "output_type": "stream",
     "text": [
      "Train on 60000 samples, validate on 10000 samples\n",
      "Epoch 1/40\n",
      "60000/60000 [==============================] - 6s 105us/sample - loss: 0.4982 - accuracy: 0.8259 - val_loss: 0.4089 - val_accuracy: 0.8538\n",
      "Epoch 2/40\n",
      "60000/60000 [==============================] - 6s 99us/sample - loss: 0.3752 - accuracy: 0.8665 - val_loss: 0.3902 - val_accuracy: 0.8630\n",
      "Epoch 3/40\n",
      "60000/60000 [==============================] - 6s 102us/sample - loss: 0.3381 - accuracy: 0.8767 - val_loss: 0.3711 - val_accuracy: 0.8652\n",
      "Epoch 4/40\n",
      "60000/60000 [==============================] - 6s 98us/sample - loss: 0.3138 - accuracy: 0.8851 - val_loss: 0.3641 - val_accuracy: 0.8652\n",
      "Epoch 5/40\n",
      "60000/60000 [==============================] - 6s 98us/sample - loss: 0.2979 - accuracy: 0.8922 - val_loss: 0.3500 - val_accuracy: 0.8718\n",
      "Epoch 6/40\n",
      "60000/60000 [==============================] - 6s 98us/sample - loss: 0.2829 - accuracy: 0.8952 - val_loss: 0.3543 - val_accuracy: 0.8727\n",
      "Epoch 7/40\n",
      "60000/60000 [==============================] - 6s 98us/sample - loss: 0.2713 - accuracy: 0.8990 - val_loss: 0.3489 - val_accuracy: 0.8750\n",
      "Epoch 8/40\n",
      "60000/60000 [==============================] - 6s 97us/sample - loss: 0.2593 - accuracy: 0.9032 - val_loss: 0.3668 - val_accuracy: 0.8700\n",
      "Epoch 9/40\n",
      "60000/60000 [==============================] - 6s 101us/sample - loss: 0.2491 - accuracy: 0.9070 - val_loss: 0.3454 - val_accuracy: 0.8768\n",
      "Epoch 10/40\n",
      "60000/60000 [==============================] - 6s 98us/sample - loss: 0.2420 - accuracy: 0.9089 - val_loss: 0.3500 - val_accuracy: 0.8751\n",
      "Epoch 11/40\n",
      "60000/60000 [==============================] - 6s 98us/sample - loss: 0.2342 - accuracy: 0.9121 - val_loss: 0.3330 - val_accuracy: 0.8817\n",
      "Epoch 12/40\n",
      "60000/60000 [==============================] - 6s 98us/sample - loss: 0.2251 - accuracy: 0.9147 - val_loss: 0.3429 - val_accuracy: 0.8813\n",
      "Epoch 13/40\n",
      "60000/60000 [==============================] - 6s 98us/sample - loss: 0.2199 - accuracy: 0.9184 - val_loss: 0.3457 - val_accuracy: 0.8834\n",
      "Epoch 14/40\n",
      "60000/60000 [==============================] - 6s 99us/sample - loss: 0.2136 - accuracy: 0.9198 - val_loss: 0.3410 - val_accuracy: 0.8818\n",
      "Epoch 15/40\n",
      "60000/60000 [==============================] - 6s 98us/sample - loss: 0.2047 - accuracy: 0.9229 - val_loss: 0.3399 - val_accuracy: 0.8858\n"
     ]
    },
    {
     "data": {
      "text/plain": [
       "<tensorflow.python.keras.callbacks.History at 0x7f8b20dd6790>"
      ]
     },
     "execution_count": 40,
     "metadata": {},
     "output_type": "execute_result"
    }
   ],
   "source": [
    "log_dir='logs/fit/' + datetime.datetime.now().strftime('%Y%m%d-%H%M%S')\n",
    "tensorboard_callback = tf.keras.callbacks.TensorBoard(log_dir=log_dir, histogram_freq=1)\n",
    "early_stopping_callback = tf.keras.callbacks.EarlyStopping(monitor='val_loss', patience=4)\n",
    "\n",
    "model.fit(x=train_images, \n",
    "          y=train_labels, \n",
    "          epochs=40, \n",
    "          validation_data=(test_images, test_labels), \n",
    "          callbacks=[tensorboard_callback, early_stopping_callback])"
   ]
  },
  {
   "cell_type": "code",
   "execution_count": 41,
   "metadata": {
    "colab": {},
    "colab_type": "code",
    "id": "vUIOxIxcQSRH"
   },
   "outputs": [
    {
     "data": {
      "text/plain": [
       "ERROR: Failed to launch TensorBoard (exited with -4)."
      ]
     },
     "metadata": {},
     "output_type": "display_data"
    }
   ],
   "source": [
    "#!kill 1234   # sometime TensorBoard does not show all data.  If it shows reusing previous instance use kill command listed\n",
    "%tensorboard --logdir logs/fit"
   ]
  },
  {
   "cell_type": "markdown",
   "metadata": {
    "colab_type": "text",
    "id": "AwGPItyphqXT"
   },
   "source": [
    "## Save Your Model\n",
    "\n",
    "Now that we have our model working well.  We can save it for reuse.\n",
    "\n",
    "By saving the model's structure and the associated trained weights we preserve our work.  Those weights are well over 101,000 values for which we had to work hard to get to the proper numbers!!\n"
   ]
  },
  {
   "cell_type": "code",
   "execution_count": 42,
   "metadata": {
    "colab": {},
    "colab_type": "code",
    "id": "0w5Rq8SsgWE6"
   },
   "outputs": [
    {
     "name": "stdout",
     "output_type": "stream",
     "text": [
      "Saving model to : /var/folders/sq/p495tjk900x4_c97r6cbwj9m0000gn/T/1\n",
      "\n",
      "WARNING:tensorflow:From /Users/bryanyu1/opt/anaconda3/envs/tf/lib/python3.7/site-packages/tensorflow_core/python/ops/resource_variable_ops.py:1781: calling BaseResourceVariable.__init__ (from tensorflow.python.ops.resource_variable_ops) with constraint is deprecated and will be removed in a future version.\n",
      "Instructions for updating:\n",
      "If using Keras pass *_constraint arguments to layers.\n",
      "INFO:tensorflow:Assets written to: /var/folders/sq/p495tjk900x4_c97r6cbwj9m0000gn/T/1/assets\n",
      "Model saved\n"
     ]
    }
   ],
   "source": [
    "# We use the Python tempfile library to create files in a generated folder.  \n",
    "# If you want to used a defined path, replace this code with your own \n",
    "# path definitions. \n",
    "import tempfile\n",
    "# import os\n",
    "\n",
    "# get the tempfile location for this session\n",
    "MODEL_DIR = tempfile.gettempdir()\n",
    "version = 1   # NOTE: Adjust if you don't want to replace a version of your model\n",
    "export_path = os.path.join(MODEL_DIR, str(version))  # the final path includes the version\n",
    "print('Saving model to : {}\\n'.format(export_path))\n",
    "\n",
    "# if path already exists delete everything at the location\n",
    "if os.path.isdir(export_path):\n",
    "  print('\\nPreviously saved model found, deleting it\\n')\n",
    "  !rm -r {export_path}\n",
    "\n",
    "# Save the model  \n",
    "tf.saved_model.save(model, export_path)\n",
    "\n",
    "# Print save complete message\n",
    "print('Model saved')\n"
   ]
  },
  {
   "cell_type": "markdown",
   "metadata": {},
   "source": [
    "# NOTE\n",
    "\n",
    "**Need to run in Google Colab from here on!**"
   ]
  },
  {
   "cell_type": "markdown",
   "metadata": {
    "colab_type": "text",
    "id": "8YbP9MjFLkRJ"
   },
   "source": [
    "\n",
    "\n",
    "# Deploying our Trained Model\n",
    "\n",
    "Once we are satisified with the model's performance we can deploy it so other programs can use it.  This is a complex subject since the deployment strategies depend on how our model will be used.\n",
    "\n",
    "In this script we will show a very basic way of deploying the model.  We will do just enough so we can make predictions with our trained model from Python."
   ]
  },
  {
   "cell_type": "markdown",
   "metadata": {
    "colab_type": "text",
    "id": "BjXJXg2dZKlZ"
   },
   "source": [
    "## TensorFlow ModelServer\n",
    "\n",
    "We are going to use the Tensorflow ModelServer to serve our model.  This install may only work in Colab.  \n",
    "\n",
    "*The recommendation for general installation and usage of the server is to use a docker container.  This is documented in the repo, https://github.com/tensorflow/serving/blob/master/tensorflow_serving/g3doc/setup.md*"
   ]
  },
  {
   "cell_type": "markdown",
   "metadata": {
    "colab_type": "text",
    "id": "BTWb0-KjnHSP"
   },
   "source": [
    "## Add TensorFlow Serving as installable\n",
    "\n",
    "Before we can install the TensorFlow ModelServer we need to make it known to the APT installer so the installer know where to fetch the bits.\n",
    "\n",
    "We do this by adding a key in to the APT database refering to the tensorflow-serving files location."
   ]
  },
  {
   "cell_type": "code",
   "execution_count": null,
   "metadata": {
    "colab": {},
    "colab_type": "code",
    "id": "yadLd4SqnwMT"
   },
   "outputs": [],
   "source": [
    "# add the key\n",
    "!echo 'deb http://storage.googleapis.com/tensorflow-serving-apt stable tensorflow-model-server tensorflow-model-server-universal' | tee /etc/apt/sources.list.d/tensorflow-serving.list && \\\n",
    "curl https://storage.googleapis.com/tensorflow-serving-apt/tensorflow-serving.release.pub.gpg | apt-key add -\n",
    "# update the database with the new key\n",
    "!apt update"
   ]
  },
  {
   "cell_type": "markdown",
   "metadata": {
    "colab_type": "text",
    "id": "W1ZVp_VOU7Wu"
   },
   "source": [
    "### Install TensorFlow ModelServer\n",
    "\n",
    "We use apt-get to fetch and install TensorFlow ModelServer"
   ]
  },
  {
   "cell_type": "code",
   "execution_count": null,
   "metadata": {
    "colab": {},
    "colab_type": "code",
    "id": "ygwa9AgRloYy"
   },
   "outputs": [],
   "source": [
    "!apt-get install tensorflow-model-server"
   ]
  },
  {
   "cell_type": "markdown",
   "metadata": {
    "colab_type": "text",
    "id": "k5NrYdQeVm52"
   },
   "source": [
    "### Start TensorFlow ModelServer\n",
    "\n",
    "This is where we start TensorFlow ModelServer and load our model.  After it loads we can start making inference requests using REST.  There are some important parameters:\n",
    "\n",
    "* `rest_api_port`: The port that you'll use for REST requests.\n",
    "* `model_name`: You'll use this in the URL of the REST requests.  It can be anything.\n",
    "* `model_base_path`: This is the path to the directory where you've saved your model.\n",
    "\n",
    "We need to define these as Python variables and as shell environment variables.  This will make this information available in Python code and in \n",
    "the shell where we will start the TensorFlow ModelServer process."
   ]
  },
  {
   "cell_type": "code",
   "execution_count": null,
   "metadata": {
    "colab": {},
    "colab_type": "code",
    "id": "aUgp3vUdU5GS"
   },
   "outputs": [],
   "source": [
    "# Define the environment variable where our saved model resides\n",
    "os.environ['MODEL_DIR'] = MODEL_DIR\n",
    "# Define the Python constant and environment variable to point to the port number used to access our model\n",
    "REST_PORT = '8501'\n",
    "os.environ['REST_PORT'] = REST_PORT\n",
    "# Define the Python constant and environment variable to point to the our model name.\n",
    "#  This is an abitrary name.\n",
    "MODEL_NAME = 'fashion_mnist'\n",
    "os.environ['MODEL_NAME'] = MODEL_NAME"
   ]
  },
  {
   "cell_type": "code",
   "execution_count": null,
   "metadata": {
    "colab": {},
    "colab_type": "code",
    "id": "kJDhHNJVnaLN"
   },
   "outputs": [],
   "source": [
    "# Run the shell command to launch tensorflow_model_server.  Output status and error\n",
    "#  messages to the file server.log\n",
    "%%bash --bg \n",
    "nohup tensorflow_model_server \\\n",
    "  --rest_api_port=\"${REST_PORT}\" \\\n",
    "  --model_name=\"${MODEL_NAME}\" \\\n",
    "  --model_base_path=\"${MODEL_DIR}\" >server.log 2>&1\n"
   ]
  },
  {
   "cell_type": "code",
   "execution_count": null,
   "metadata": {
    "colab": {},
    "colab_type": "code",
    "id": "IxbeiOCUUs2z"
   },
   "outputs": [],
   "source": [
    "# Display the tail (last few lines) of the server log which will show any errors\n",
    "!tail server.log"
   ]
  },
  {
   "cell_type": "markdown",
   "metadata": {
    "colab_type": "text",
    "id": "vwg1JKaGXWAg"
   },
   "source": [
    "### Function to display image with user defined title"
   ]
  },
  {
   "cell_type": "code",
   "execution_count": null,
   "metadata": {
    "colab": {},
    "colab_type": "code",
    "id": "Luqm_Jyff9iR"
   },
   "outputs": [],
   "source": [
    "def show_image(index, title, show_colorbar=False):\n",
    "  plt.figure()\n",
    "  plt.title('\\n\\n{}'.format(title), fontdict={'size': 16})\n",
    "  plt.imshow(test_images[index].reshape(28,28), cmap='gray')  # data is grayscale, but displays in color without cmap='gray'\n",
    "  if (show_colorbar):\n",
    "    plt.colorbar()\n",
    "  plt.axis('off')\n",
    "  plt.show()"
   ]
  },
  {
   "cell_type": "markdown",
   "metadata": {
    "colab_type": "text",
    "id": "x-Cc6WAFf4eg"
   },
   "source": [
    "## Make a REST request to predict class of our example image\n",
    "\n",
    "\n"
   ]
  },
  {
   "cell_type": "code",
   "execution_count": null,
   "metadata": {
    "colab": {},
    "colab_type": "code",
    "id": "ReGh9AElrE4_"
   },
   "outputs": [],
   "source": [
    "!pip install -q requests    # Install the requests library which makes HTTP requests to the TensorFlow server \n",
    "                            # using our trained our model \n",
    "import requests     # import requests "
   ]
  },
  {
   "cell_type": "code",
   "execution_count": null,
   "metadata": {
    "colab": {},
    "colab_type": "code",
    "id": "3dJFAJ9LqXMk"
   },
   "outputs": [],
   "source": [
    "# Select a random image to classify\n",
    "import random\n",
    "image_index = random.randint(0,len(test_images)-1)\n"
   ]
  },
  {
   "cell_type": "code",
   "execution_count": null,
   "metadata": {
    "colab": {},
    "colab_type": "code",
    "id": "pll06kNWsCBF"
   },
   "outputs": [],
   "source": [
    " # Import json library and create the json data structure to be passed in the request.\n",
    "import json\n",
    "\n",
    "# The data is assumed to be a list of images, a 4D tensor of the shape [*,28,28,1].  \n",
    "# Convert the single 3d to 4d\n",
    "check_images = np.reshape(test_images[image_index],(-1,28,28,1))\n",
    "\n",
    "# Construct json data passed to server.  \"instances\" will hold the image(s) we \n",
    "#   want the model to classify\n",
    "data = json.dumps({'signature_name': 'serving_default', 'instances': check_images.tolist()})  "
   ]
  },
  {
   "cell_type": "code",
   "execution_count": null,
   "metadata": {
    "colab": {},
    "colab_type": "code",
    "id": "gelYGr-s2RXw"
   },
   "outputs": [],
   "source": [
    "# Create the request\n",
    "\n",
    "# HTTP request header\n",
    "headers = {'content-type': 'application/json'}\n",
    "\n",
    "# Build the url to the service using the constants we defined earlier, should be of the form:\n",
    "#      http://localhost:8501/v1/models/fashion_mnist:predict\n",
    "predict_service_url = 'http://localhost:' + REST_PORT + '/v1/models/' + MODEL_NAME + ':predict'\n",
    "\n",
    "# Make request to the service.  Pass the headers and data.  Wait for the server's reponse.\n",
    "json_response = requests.post(predict_service_url, data=data, headers=headers)\n",
    "\n",
    "# Parse the response.  For each images we pass we get a list of probabilities \n",
    "predictions = json.loads(json_response.text)['predictions']\n",
    "# predictions[0] is the 10 probabilites for our first and only image.\n",
    "# predictions[0] has values in the form [0.1, 0.05, ...., 0.6]\n",
    "\n",
    "# The numpy argmax function returns the index of the highest value.  This is \n",
    "# the highest probabilty class predicted by our model. \n",
    "predicted_class = np.argmax(predictions[0])\n",
    "\n",
    "# Display image, the actual class and the predicted class\n",
    "show_image(image_index, 'Model predicted class: {} (class {}). \\n Actually class: {} (class {})'.format(\n",
    "  class_names[predicted_class], predicted_class, class_names[test_labels[image_index]], test_labels[image_index]))"
   ]
  }
 ],
 "metadata": {
  "accelerator": "GPU",
  "colab": {
   "collapsed_sections": [],
   "name": "Fashion_MNIST.ipynb",
   "provenance": []
  },
  "kernelspec": {
   "display_name": "Python 3",
   "language": "python",
   "name": "python3"
  },
  "language_info": {
   "codemirror_mode": {
    "name": "ipython",
    "version": 3
   },
   "file_extension": ".py",
   "mimetype": "text/x-python",
   "name": "python",
   "nbconvert_exporter": "python",
   "pygments_lexer": "ipython3",
   "version": "3.7.10"
  }
 },
 "nbformat": 4,
 "nbformat_minor": 1
}

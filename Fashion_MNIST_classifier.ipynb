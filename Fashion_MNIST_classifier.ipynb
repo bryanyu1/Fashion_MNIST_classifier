{
 "cells": [
  {
   "cell_type": "markdown",
   "metadata": {
    "colab_type": "text",
    "id": "bC7-g3yGJCdW"
   },
   "source": [
    "# Fashion-MNIST Neural Network\n",
    "\n",
    "This notebook implements a simple NN consisting of two dense layers, and uses this network to classify Fashion-MNIST images.\n",
    "\n",
    "These Fashion-MNIST images consist of clothing items from these ten classes. (*T-shirt/top, Trouser, Pullover, Dress, Coat, Sandal, Shirt, Sneaker, Bag, Ankle boot)*"
   ]
  },
  {
   "cell_type": "markdown",
   "metadata": {
    "colab_type": "text",
    "id": "Sy_y_E9_NFc8"
   },
   "source": [
    "## Import Libraries\n",
    "\n",
    "Import TensorFlow, Numpy, and Matplotlib libraries.  \n",
    "\n",
    "Numpy is a powerful n-dimensional array library that\n",
    "allows us to easily create and manipulate arrays of data, and more!\n",
    "\n",
    "Numpy also allows us to convert TensorFlow's native data structures,\n",
    "to Python native data types.\n",
    "\n",
    "Matplotlib is a graphics plot library"
   ]
  },
  {
   "cell_type": "code",
   "execution_count": 1,
   "metadata": {
    "colab": {},
    "colab_type": "code",
    "id": "RgDK_bJeJpua",
    "scrolled": true
   },
   "outputs": [
    {
     "name": "stdout",
     "output_type": "stream",
     "text": [
      "2.0.0\n"
     ]
    }
   ],
   "source": [
    "# Import libraries\n",
    "import tensorflow as tf\n",
    "import numpy as np\n",
    "import matplotlib.pyplot as plt\n",
    "\n",
    "print(tf.__version__)"
   ]
  },
  {
   "cell_type": "markdown",
   "metadata": {},
   "source": [
    "Fixing GPU error when training models. "
   ]
  },
  {
   "cell_type": "code",
   "execution_count": 2,
   "metadata": {},
   "outputs": [],
   "source": [
    "import os\n",
    "\n",
    "os.environ['KMP_DUPLICATE_LIB_OK']='True'"
   ]
  },
  {
   "cell_type": "markdown",
   "metadata": {
    "colab_type": "text",
    "id": "EMWdw_E_QPhY"
   },
   "source": [
    "## Problem Statement\n",
    "\n",
    "Using example data, train a model that will correctly predict the class of images of fashion items.\n",
    "\n"
   ]
  },
  {
   "cell_type": "markdown",
   "metadata": {
    "colab_type": "text",
    "id": "N49Xfo21RTr9"
   },
   "source": [
    "## Get Data\n",
    "\n",
    "### About the Fashion-MNIST dataset\n",
    "\n",
    "The Fashion-MNIST dataset is a widely available dataset.  It is documented at the https://github.com/zalandoresearch/fashion-mnist\n",
    "\n",
    "Each image in the dataset is 28 X 28 pixels.  The pixel values are a grayscale with values ranging from 0 to 255.\n",
    "\n",
    "Associated with each image is a number from 0 to 9 specifying the class of the fashion item in the image.  The values for the classes are:\n",
    "\n",
    "| Label | Description |\n",
    "|-------|-------------|\n",
    "| 0     | T-shirt/top |\n",
    "|   1    | Trouser    | \n",
    "|  2     |  Pullover  |\n",
    "|   3    |    Dress    |\n",
    "|    4   |    Coat      |\n",
    "|   5    | Sandal     |\n",
    "|   6    | Shirt         |\n",
    "|    7   |  Sneaker  |\n",
    "|   8    |  Bag          |\n",
    "|  9     | Ankle boot |\n",
    "\n",
    "There are 60,000 Training examples and 10,000 Testing examples. "
   ]
  },
  {
   "cell_type": "markdown",
   "metadata": {
    "colab_type": "text",
    "id": "qswhm4c7nMVl"
   },
   "source": [
    "We will need these class names later in the code.  So we create an list of names we can index by the class label number.  For example, class_names[2] = 'Pullover' and class_names[9] = 'Ankle boot'."
   ]
  },
  {
   "cell_type": "code",
   "execution_count": 3,
   "metadata": {
    "colab": {},
    "colab_type": "code",
    "id": "zK737-ABm7od"
   },
   "outputs": [],
   "source": [
    "# Define class names to display\n",
    "class_names = ['T-shirt/top', 'Trouser', 'Pullover', 'Dress', 'Coat',\n",
    "                  'Sandal', 'Shirt', 'Sneaker', 'Bag', 'Ankle boot']"
   ]
  },
  {
   "cell_type": "markdown",
   "metadata": {
    "colab_type": "text",
    "id": "YcAJeHCCm_TW"
   },
   "source": [
    "Fashion-MNIST is one of the datasets provided with Keras in Tensorflow.  Keras' Dataset library provides a load_data() method that will download the dataset of 60,000 Training images and their corresponding 60,000 labels, and 10,000 Test images and their corresponding 10,000 labels."
   ]
  },
  {
   "cell_type": "code",
   "execution_count": 4,
   "metadata": {
    "colab": {},
    "colab_type": "code",
    "id": "1MMs613GNLe4"
   },
   "outputs": [],
   "source": [
    "fashion_mnist = tf.keras.datasets.fashion_mnist\n",
    "(train_images, train_labels), (test_images, test_labels) = fashion_mnist.load_data()"
   ]
  },
  {
   "cell_type": "markdown",
   "metadata": {
    "colab_type": "text",
    "id": "oAcxPIjJkLKZ"
   },
   "source": [
    "### Explore the data\n",
    "\n",
    "Let's look at our data."
   ]
  },
  {
   "cell_type": "code",
   "execution_count": 5,
   "metadata": {
    "colab": {},
    "colab_type": "code",
    "id": "Umx96CdYV-yz"
   },
   "outputs": [
    {
     "name": "stdout",
     "output_type": "stream",
     "text": [
      "Training data: (60000, 28, 28) (60000,)\n",
      "Test data: (10000, 28, 28) (10000,)\n"
     ]
    }
   ],
   "source": [
    "# Print the shape of the data tensors we loaded.  Should be:\n",
    "#   60,000 training 28X28 images and their labels, and 10,000 testing images and their labels\n",
    "print ('Training data:', train_images.shape, train_labels.shape)\n",
    "print ('Test data:', test_images.shape, test_labels.shape)"
   ]
  },
  {
   "cell_type": "markdown",
   "metadata": {
    "colab_type": "text",
    "id": "4Jq_XBs9Xa6C"
   },
   "source": [
    "### Inspect data\n",
    "Each image should be a 28 X 28 image and have a gray scale value of 0-255. Let's display an arbitrary image.\n",
    "\n",
    "You should see:  \n",
    "* A title that specifies the class of the image, whose description is shown on the table above.\n",
    "* The image \n",
    "* The 28 by 28 width and height pixel index \n",
    "* and on the right the grayscale legend associated with the pixel values."
   ]
  },
  {
   "cell_type": "code",
   "execution_count": 6,
   "metadata": {
    "colab": {},
    "colab_type": "code",
    "id": "ni0bRFhjWP1y"
   },
   "outputs": [],
   "source": [
    "def show_training_image(index):\n",
    "  img_label = str(train_labels[index]) + ' (' +  class_names[train_labels[index]] + ')'\n",
    "  plt.figure()\n",
    "  plt.title('Image Label ' + img_label) \n",
    "  plt.imshow(train_images[index], cmap='gray')  # data is grayscale, but displays in color without cmap='gray'\n",
    "  plt.colorbar()\n",
    "  plt.show()"
   ]
  },
  {
   "cell_type": "code",
   "execution_count": 7,
   "metadata": {
    "colab": {},
    "colab_type": "code",
    "id": "gJa1Wq_4acop"
   },
   "outputs": [
    {
     "data": {
      "image/png": "[encoded data removed]",
      "text/plain": [
       "<Figure size 432x288 with 2 Axes>"
      ]
     },
     "metadata": {
      "needs_background": "light"
     },
     "output_type": "display_data"
    }
   ],
   "source": [
    "img_index = 100\n",
    "show_training_image(img_index)"
   ]
  },
  {
   "cell_type": "markdown",
   "metadata": {
    "colab_type": "text",
    "id": "Db_TW6wccWHw"
   },
   "source": [
    "## Prepare Data\n",
    "\n",
    "As usual we need to do some pre-processing of the data.  Here we want to scale the pixels values from 0 to 255 to 0.0 to 1.0.  We scale both the training and testing image values."
   ]
  },
  {
   "cell_type": "code",
   "execution_count": 8,
   "metadata": {
    "colab": {},
    "colab_type": "code",
    "id": "o0vDE9tBYUWx"
   },
   "outputs": [
    {
     "data": {
      "image/png": "[encoded data removed]",
      "text/plain": [
       "<Figure size 432x288 with 2 Axes>"
      ]
     },
     "metadata": {
      "needs_background": "light"
     },
     "output_type": "display_data"
    }
   ],
   "source": [
    "# scale training and testing image values\n",
    "train_images = train_images / 255.0\n",
    "test_images = test_images / 255.0\n",
    "\n",
    "# Print the image again and notice the values now range from 0 to 1.\n",
    "#   And the image looks the same, just on a different scale. \n",
    "show_training_image(img_index)"
   ]
  },
  {
   "cell_type": "markdown",
   "metadata": {
    "colab_type": "text",
    "id": "ZAAj8oXkeBsY"
   },
   "source": [
    "## Create Model\n",
    "\n",
    "We can now create the model we are going to train with the data.\n",
    "\n",
    "This will be a simple model that:\n",
    "* Flattens the 28 X 28 pixel values into a long stream of 28 by 28 = 784 pixel values - Note this is a Keras layer but is not a neural network layer. Notice the input_shape parameter contains only the shape of a single data element.  There are n data elements each with this same shape. \n",
    "* Passes each pixel value as the input to each of the 128 neurons.  \n",
    "* And finally passes values to the last layer that contains 10 neurons, one for each of the ten classes (t-shirt, pullover, etc).  Each of these 10 neurons uses the Softmax activation function to determine the probability that the image is each class.  The final output from the model is a vector of probabilities that the image is of each class.  Such as :\n",
    "[0.01, 0.05, 0.04, 0.06, 0.50, 0.20, 0.04, 0.00, 0.03, 0.07].  This example vector adds up to 1.0 and shows the probability that the image is class 0 (T-shirt/top) is 0.01 (1%), class 1 (Trousers) is 0.05 (5%), class 2 (Pullover) is 0.04 (4%), ....\n"
   ]
  },
  {
   "cell_type": "code",
   "execution_count": 9,
   "metadata": {
    "colab": {},
    "colab_type": "code",
    "id": "0N2R893MdSZn"
   },
   "outputs": [],
   "source": [
    "\n",
    "model = tf.keras.models.Sequential()      # Create a new sequential model\n",
    "model.add(tf.keras.layers.Flatten(input_shape=(28,28)))    # keras processing layer - no neurons\n",
    "model.add(tf.keras.layers.Dense(128, activation='relu', name='dense-128-relu'))   # 128 neurons connected to pixels\n",
    "model.add(tf.keras.layers.Dense(10, activation='softmax', name='dense-10-softmax')) # determines probability of each of the 10 classes"
   ]
  },
  {
   "cell_type": "markdown",
   "metadata": {
    "colab_type": "text",
    "id": "6nu2185LTBq8"
   },
   "source": [
    "### Structure of the model\n",
    "\n",
    "To make it easy for us to visualize the model, Keras models have a summary method.  When we call it we see our model structure.  \n",
    "\n",
    "For completeness we also show the shape of the input data.\n"
   ]
  },
  {
   "cell_type": "code",
   "execution_count": 10,
   "metadata": {
    "colab": {},
    "colab_type": "code",
    "id": "0gXXuAqQURdH"
   },
   "outputs": [
    {
     "name": "stdout",
     "output_type": "stream",
     "text": [
      "Input Shape: (60000, 28, 28)\n",
      "\n",
      "Model: \"sequential\"\n",
      "_________________________________________________________________\n",
      "Layer (type)                 Output Shape              Param #   \n",
      "=================================================================\n",
      "flatten (Flatten)            (None, 784)               0         \n",
      "_________________________________________________________________\n",
      "dense-128-relu (Dense)       (None, 128)               100480    \n",
      "_________________________________________________________________\n",
      "dense-10-softmax (Dense)     (None, 10)                1290      \n",
      "=================================================================\n",
      "Total params: 101,770\n",
      "Trainable params: 101,770\n",
      "Non-trainable params: 0\n",
      "_________________________________________________________________\n",
      "None\n"
     ]
    }
   ],
   "source": [
    "print('Input Shape:', train_images.shape)\n",
    "print()\n",
    "print(model.summary())"
   ]
  },
  {
   "cell_type": "markdown",
   "metadata": {
    "colab_type": "text",
    "id": "BJTmzxCJ3Bpi"
   },
   "source": [
    "### Compile the model\n",
    "\n",
    "Before we can train the model we need to specify how the model will learn from the training data.  To do this we specify:\n",
    "*  loss - how we measure loss (error).  We will use sparse_categorical_crossentropy, which determines the highest predicted class and calculates loss based on how often this is the correct class.\n",
    "*     optimizer - how the model will update the model's weights to reduce the loss.  We use the Adam variant of Mini-batch Gradient Descent.\n",
    "* metrics  - the metrics used for evaluation of training and test.  In this case we use accuracy, that is how often the images are correctly classified.  Higher is better. (1.00 would be perfect (100%), 0,75 = 75%, 0.25 = 25%, ...) \n"
   ]
  },
  {
   "cell_type": "code",
   "execution_count": 11,
   "metadata": {
    "colab": {},
    "colab_type": "code",
    "id": "TW9pZ8kw2Nid"
   },
   "outputs": [],
   "source": [
    "model.compile(optimizer='adam',\n",
    "              loss='sparse_categorical_crossentropy',\n",
    "              metrics=['accuracy'])"
   ]
  },
  {
   "cell_type": "markdown",
   "metadata": {
    "colab_type": "text",
    "id": "T7wyz8jh6ZA6"
   },
   "source": [
    "## Train the Model\n",
    "Now that we have our data and model, and have specified how the model will learn from the data we can train it."
   ]
  },
  {
   "cell_type": "code",
   "execution_count": 12,
   "metadata": {
    "colab": {},
    "colab_type": "code",
    "id": "osxdZq5y6qF1"
   },
   "outputs": [
    {
     "name": "stdout",
     "output_type": "stream",
     "text": [
      "Train on 60000 samples\n",
      "Epoch 1/40\n",
      "60000/60000 [==============================] - 6s 97us/sample - loss: 0.4966 - accuracy: 0.8234\n",
      "Epoch 2/40\n",
      "60000/60000 [==============================] - 5s 89us/sample - loss: 0.3705 - accuracy: 0.8659\n",
      "Epoch 3/40\n",
      "60000/60000 [==============================] - 5s 88us/sample - loss: 0.3338 - accuracy: 0.8760\n",
      "Epoch 4/40\n",
      "60000/60000 [==============================] - 6s 92us/sample - loss: 0.3117 - accuracy: 0.8852\n",
      "Epoch 5/40\n",
      "60000/60000 [==============================] - 6s 92us/sample - loss: 0.2949 - accuracy: 0.8918\n",
      "Epoch 6/40\n",
      "60000/60000 [==============================] - 5s 90us/sample - loss: 0.2796 - accuracy: 0.8966\n",
      "Epoch 7/40\n",
      "60000/60000 [==============================] - 5s 88us/sample - loss: 0.2685 - accuracy: 0.8995\n",
      "Epoch 8/40\n",
      "60000/60000 [==============================] - 5s 88us/sample - loss: 0.2575 - accuracy: 0.9042\n",
      "Epoch 9/40\n",
      "60000/60000 [==============================] - 5s 88us/sample - loss: 0.2484 - accuracy: 0.9067\n",
      "Epoch 10/40\n",
      "60000/60000 [==============================] - 5s 88us/sample - loss: 0.2405 - accuracy: 0.9105\n",
      "Epoch 11/40\n",
      "60000/60000 [==============================] - 5s 89us/sample - loss: 0.2329 - accuracy: 0.9139\n",
      "Epoch 12/40\n",
      "60000/60000 [==============================] - 5s 88us/sample - loss: 0.2247 - accuracy: 0.9155\n",
      "Epoch 13/40\n",
      "60000/60000 [==============================] - 5s 88us/sample - loss: 0.2175 - accuracy: 0.9187\n",
      "Epoch 14/40\n",
      "60000/60000 [==============================] - 5s 90us/sample - loss: 0.2121 - accuracy: 0.9215\n",
      "Epoch 15/40\n",
      "60000/60000 [==============================] - 6s 101us/sample - loss: 0.2052 - accuracy: 0.9237\n",
      "Epoch 16/40\n",
      "60000/60000 [==============================] - 6s 98us/sample - loss: 0.1993 - accuracy: 0.9258\n",
      "Epoch 17/40\n",
      "60000/60000 [==============================] - 6s 97us/sample - loss: 0.1928 - accuracy: 0.9290\n",
      "Epoch 18/40\n",
      "60000/60000 [==============================] - 6s 99us/sample - loss: 0.1888 - accuracy: 0.9282\n",
      "Epoch 19/40\n",
      "60000/60000 [==============================] - 5s 90us/sample - loss: 0.1844 - accuracy: 0.9311\n",
      "Epoch 20/40\n",
      "60000/60000 [==============================] - 5s 89us/sample - loss: 0.1810 - accuracy: 0.9312\n",
      "Epoch 21/40\n",
      "60000/60000 [==============================] - 5s 88us/sample - loss: 0.1716 - accuracy: 0.9345\n",
      "Epoch 22/40\n",
      "60000/60000 [==============================] - 5s 89us/sample - loss: 0.1707 - accuracy: 0.9360\n",
      "Epoch 23/40\n",
      "60000/60000 [==============================] - 5s 88us/sample - loss: 0.1665 - accuracy: 0.9378\n",
      "Epoch 24/40\n",
      "60000/60000 [==============================] - 5s 89us/sample - loss: 0.1629 - accuracy: 0.9380\n",
      "Epoch 25/40\n",
      "60000/60000 [==============================] - 5s 89us/sample - loss: 0.1597 - accuracy: 0.9399\n",
      "Epoch 26/40\n",
      "60000/60000 [==============================] - 5s 88us/sample - loss: 0.1528 - accuracy: 0.9421\n",
      "Epoch 27/40\n",
      "60000/60000 [==============================] - 5s 89us/sample - loss: 0.1515 - accuracy: 0.9428\n",
      "Epoch 28/40\n",
      "60000/60000 [==============================] - 5s 90us/sample - loss: 0.1490 - accuracy: 0.9450\n",
      "Epoch 29/40\n",
      "60000/60000 [==============================] - 5s 89us/sample - loss: 0.1464 - accuracy: 0.9454\n",
      "Epoch 30/40\n",
      "60000/60000 [==============================] - 5s 89us/sample - loss: 0.1445 - accuracy: 0.9452\n",
      "Epoch 31/40\n",
      "60000/60000 [==============================] - 5s 89us/sample - loss: 0.1376 - accuracy: 0.9478\n",
      "Epoch 32/40\n",
      "60000/60000 [==============================] - 5s 89us/sample - loss: 0.1369 - accuracy: 0.9478\n",
      "Epoch 33/40\n",
      "60000/60000 [==============================] - 5s 89us/sample - loss: 0.1317 - accuracy: 0.9507\n",
      "Epoch 34/40\n",
      "60000/60000 [==============================] - 5s 89us/sample - loss: 0.1308 - accuracy: 0.9512\n",
      "Epoch 35/40\n",
      "60000/60000 [==============================] - 5s 88us/sample - loss: 0.1297 - accuracy: 0.9505\n",
      "Epoch 36/40\n",
      "60000/60000 [==============================] - 5s 88us/sample - loss: 0.1245 - accuracy: 0.9532\n",
      "Epoch 37/40\n",
      "60000/60000 [==============================] - 5s 89us/sample - loss: 0.1236 - accuracy: 0.9531\n",
      "Epoch 38/40\n",
      "60000/60000 [==============================] - 5s 89us/sample - loss: 0.1224 - accuracy: 0.9542\n",
      "Epoch 39/40\n",
      "60000/60000 [==============================] - 5s 89us/sample - loss: 0.1183 - accuracy: 0.9558\n",
      "Epoch 40/40\n",
      "60000/60000 [==============================] - 5s 89us/sample - loss: 0.1179 - accuracy: 0.9554\n"
     ]
    }
   ],
   "source": [
    "train_hist = model.fit(train_images, train_labels, epochs=40)"
   ]
  },
  {
   "cell_type": "markdown",
   "metadata": {
    "colab_type": "text",
    "id": "R2TLdEfR9tus"
   },
   "source": [
    "Plot the training to makes sure it is converging."
   ]
  },
  {
   "cell_type": "code",
   "execution_count": 13,
   "metadata": {
    "colab": {},
    "colab_type": "code",
    "id": "5hCztJ2o90DS"
   },
   "outputs": [],
   "source": [
    "def plot_acc(hist):\n",
    "  # plot the accuracy\n",
    "  plt.title('Accuracy History')\n",
    "  plt.plot(hist.history['accuracy'])\n",
    "  plt.ylabel('Accuracy')\n",
    "  plt.xlabel('epoch')\n",
    "  plt.show()\n",
    "  \n",
    "def plot_loss(hist):\n",
    "  # plot the loss\n",
    "  plt.title('Loss History')\n",
    "  plt.plot(hist.history['loss'])\n",
    "  plt.ylabel('loss')\n",
    "  plt.xlabel('epoch')\n",
    "  plt.show()"
   ]
  },
  {
   "cell_type": "code",
   "execution_count": 14,
   "metadata": {
    "colab": {},
    "colab_type": "code",
    "id": "Zljp5aHqv514"
   },
   "outputs": [
    {
     "data": {
      "image/png": "[encoded data removed]",
      "text/plain": [
       "<Figure size 432x288 with 1 Axes>"
      ]
     },
     "metadata": {
      "needs_background": "light"
     },
     "output_type": "display_data"
    },
    {
     "data": {
      "image/png": "[encoded data removed]",
      "text/plain": [
       "<Figure size 432x288 with 1 Axes>"
      ]
     },
     "metadata": {
      "needs_background": "light"
     },
     "output_type": "display_data"
    }
   ],
   "source": [
    "plot_loss(train_hist)\n",
    "plot_acc(train_hist)"
   ]
  },
  {
   "cell_type": "markdown",
   "metadata": {
    "colab_type": "text",
    "id": "0WOXQpc99Ttj"
   },
   "source": [
    "## Evaluate Trained Model\n",
    "\n",
    "Once we have the model trained, we need to see how it will perform on data that it was not trained on, that is, test data. \n",
    "\n",
    "We do this with Keras' evaluation function and the test dataset we retrieved earlier.\n"
   ]
  },
  {
   "cell_type": "code",
   "execution_count": 15,
   "metadata": {
    "colab": {},
    "colab_type": "code",
    "id": "9yEEjOV69uay"
   },
   "outputs": [
    {
     "name": "stdout",
     "output_type": "stream",
     "text": [
      "max training accuracy: 0.9557833   test accuracy: 0.8892\n"
     ]
    }
   ],
   "source": [
    "test_loss, test_acc = model.evaluate(test_images, test_labels, verbose=0)\n",
    "\n",
    "print('max training accuracy:', max(train_hist.history['accuracy']), '  test accuracy:', test_acc)"
   ]
  },
  {
   "cell_type": "markdown",
   "metadata": {
    "colab_type": "text",
    "id": "nAB01AmFAYw6"
   },
   "source": [
    "## Training Results\n",
    "\n",
    "The model has **about 96% accuracy** on the training data.  And **only 88% accuracy** on testing data on which it was not trained. This is a classic sign that the model overfits the training data.  \n",
    "\n",
    "We need to determine how we can reduce this overfitting and get **good accuracy on both training and test data!**\n",
    "\n",
    "\n"
   ]
  },
  {
   "cell_type": "markdown",
   "metadata": {
    "colab_type": "text",
    "id": "6olDUcpiVkxe"
   },
   "source": [
    "# Monitoring and Improving Trained Model’s Performance \n",
    "\n",
    "In this section, we want to make changes to improve the performance of the trained model.  By improved performance we mean having the model not overfit the training data and perform poorly on the testing data.\n",
    "\n",
    "There are serveral common techniques to fix this problem.  These include:\n",
    "\n",
    "1.   Reducing Model Complexity - removing neurons or layers\n",
    "2.   Dropout - Randomly removing the contributions from some neurons\n",
    "3.   Early Stopping - Terminating training as early as possible\n"
   ]
  },
  {
   "cell_type": "markdown",
   "metadata": {
    "colab_type": "text",
    "id": "gxM0Nan9ZjmK"
   },
   "source": [
    "## Monitoring performance with TensorBoard\n",
    "\n",
    "We want to ensure we are getting good data to evaluate the performance of our changes.  Fortunately the TensorFlow family include the tool **TensorBoard**.  \n",
    "\n",
    "TensorBoard provides us various ways to monitor the performance of our models including:\n",
    "\n",
    "*    Visualizing metrics such as loss and accuracy\n",
    "*    Comparision of training and evaluation metrics\n",
    "*    Visualizing the model graph (ops and layers)\n",
    "*    Viewing histograms of weights, biases, or other tensors as they change over time\n"
   ]
  },
  {
   "cell_type": "markdown",
   "metadata": {
    "colab_type": "text",
    "id": "rdydWnoYe7gy"
   },
   "source": [
    "Invoke TensorBoard from the command line."
   ]
  },
  {
   "cell_type": "code",
   "execution_count": 16,
   "metadata": {
    "colab": {},
    "colab_type": "code",
    "id": "3d1xtI7LjJyf"
   },
   "outputs": [],
   "source": [
    "import datetime"
   ]
  },
  {
   "cell_type": "code",
   "execution_count": 17,
   "metadata": {
    "colab": {},
    "colab_type": "code",
    "id": "m6dqMFnCbkC_"
   },
   "outputs": [],
   "source": [
    "# Load the tensorboard extension\n",
    "%reload_ext tensorboard"
   ]
  },
  {
   "cell_type": "code",
   "execution_count": 18,
   "metadata": {
    "colab": {},
    "colab_type": "code",
    "id": "vaXgSi2yi550"
   },
   "outputs": [],
   "source": [
    "# Clear any logs from previous runs\n",
    "!rm -rf ./logs/ "
   ]
  },
  {
   "cell_type": "code",
   "execution_count": 19,
   "metadata": {
    "colab": {},
    "colab_type": "code",
    "id": "08RQKiAXi_Yz"
   },
   "outputs": [],
   "source": [
    "# Start with a fresh model\n",
    "model = tf.keras.models.Sequential()      # Create a new sequential model\n",
    "model.add(tf.keras.layers.Flatten(input_shape=(28,28)))    # keras processing layer - no neurons\n",
    "model.add(tf.keras.layers.Dense(128, activation='relu', name='dense-128-relu'))   # 128 neurons connected to pixels\n",
    "model.add(tf.keras.layers.Dense(10, activation='softmax', name='dense-10-softmax')) # determine probability of each of the 10 classes"
   ]
  },
  {
   "cell_type": "code",
   "execution_count": 20,
   "metadata": {
    "colab": {},
    "colab_type": "code",
    "id": "Ig5AjqzkjEwM"
   },
   "outputs": [
    {
     "name": "stdout",
     "output_type": "stream",
     "text": [
      "Train on 60000 samples, validate on 10000 samples\n",
      "Epoch 1/40\n",
      "60000/60000 [==============================] - 6s 106us/sample - loss: 0.5000 - accuracy: 0.8252 - val_loss: 0.4513 - val_accuracy: 0.8338\n",
      "Epoch 2/40\n",
      "60000/60000 [==============================] - 6s 98us/sample - loss: 0.3764 - accuracy: 0.8651 - val_loss: 0.3977 - val_accuracy: 0.8577\n",
      "Epoch 3/40\n",
      "60000/60000 [==============================] - 6s 97us/sample - loss: 0.3367 - accuracy: 0.8771 - val_loss: 0.3976 - val_accuracy: 0.8542\n",
      "Epoch 4/40\n",
      "60000/60000 [==============================] - 6s 96us/sample - loss: 0.3127 - accuracy: 0.8852 - val_loss: 0.3657 - val_accuracy: 0.8696\n",
      "Epoch 5/40\n",
      "60000/60000 [==============================] - 6s 96us/sample - loss: 0.2935 - accuracy: 0.8914 - val_loss: 0.3566 - val_accuracy: 0.8705\n",
      "Epoch 6/40\n",
      "60000/60000 [==============================] - 6s 100us/sample - loss: 0.2783 - accuracy: 0.8974 - val_loss: 0.3514 - val_accuracy: 0.8774\n",
      "Epoch 7/40\n",
      "60000/60000 [==============================] - 6s 98us/sample - loss: 0.2679 - accuracy: 0.8995 - val_loss: 0.3429 - val_accuracy: 0.8785\n",
      "Epoch 8/40\n",
      "60000/60000 [==============================] - 6s 97us/sample - loss: 0.2567 - accuracy: 0.9054 - val_loss: 0.3333 - val_accuracy: 0.8813\n",
      "Epoch 9/40\n",
      "60000/60000 [==============================] - 6s 96us/sample - loss: 0.2462 - accuracy: 0.9091 - val_loss: 0.3302 - val_accuracy: 0.8844\n",
      "Epoch 10/40\n",
      "60000/60000 [==============================] - 6s 96us/sample - loss: 0.2398 - accuracy: 0.9107 - val_loss: 0.3301 - val_accuracy: 0.8860\n",
      "Epoch 11/40\n",
      "60000/60000 [==============================] - 6s 98us/sample - loss: 0.2287 - accuracy: 0.9133 - val_loss: 0.3372 - val_accuracy: 0.8839\n",
      "Epoch 12/40\n",
      "60000/60000 [==============================] - 6s 97us/sample - loss: 0.2220 - accuracy: 0.9184 - val_loss: 0.3262 - val_accuracy: 0.8880\n",
      "Epoch 13/40\n",
      "60000/60000 [==============================] - 6s 97us/sample - loss: 0.2156 - accuracy: 0.9180 - val_loss: 0.3593 - val_accuracy: 0.8812\n",
      "Epoch 14/40\n",
      "60000/60000 [==============================] - 6s 98us/sample - loss: 0.2095 - accuracy: 0.9207 - val_loss: 0.3451 - val_accuracy: 0.8830\n",
      "Epoch 15/40\n",
      "60000/60000 [==============================] - 6s 96us/sample - loss: 0.2010 - accuracy: 0.9240 - val_loss: 0.3436 - val_accuracy: 0.8851\n",
      "Epoch 16/40\n",
      "60000/60000 [==============================] - 6s 97us/sample - loss: 0.1963 - accuracy: 0.9263 - val_loss: 0.3429 - val_accuracy: 0.8887\n",
      "Epoch 17/40\n",
      "60000/60000 [==============================] - 6s 97us/sample - loss: 0.1912 - accuracy: 0.9285 - val_loss: 0.3390 - val_accuracy: 0.8925\n",
      "Epoch 18/40\n",
      "60000/60000 [==============================] - 6s 96us/sample - loss: 0.1873 - accuracy: 0.9298 - val_loss: 0.3532 - val_accuracy: 0.8887\n",
      "Epoch 19/40\n",
      "60000/60000 [==============================] - 6s 97us/sample - loss: 0.1847 - accuracy: 0.9298 - val_loss: 0.3565 - val_accuracy: 0.8870\n",
      "Epoch 20/40\n",
      "60000/60000 [==============================] - 6s 97us/sample - loss: 0.1768 - accuracy: 0.9332 - val_loss: 0.3913 - val_accuracy: 0.8743\n",
      "Epoch 21/40\n",
      "60000/60000 [==============================] - 6s 96us/sample - loss: 0.1736 - accuracy: 0.9346 - val_loss: 0.3604 - val_accuracy: 0.8930\n",
      "Epoch 22/40\n",
      "60000/60000 [==============================] - 6s 97us/sample - loss: 0.1684 - accuracy: 0.9369 - val_loss: 0.3721 - val_accuracy: 0.8843\n",
      "Epoch 23/40\n",
      "60000/60000 [==============================] - 6s 97us/sample - loss: 0.1650 - accuracy: 0.9384 - val_loss: 0.3758 - val_accuracy: 0.8869\n",
      "Epoch 24/40\n",
      "60000/60000 [==============================] - 6s 97us/sample - loss: 0.1608 - accuracy: 0.9388 - val_loss: 0.3783 - val_accuracy: 0.8852\n",
      "Epoch 25/40\n",
      "60000/60000 [==============================] - 6s 97us/sample - loss: 0.1575 - accuracy: 0.9410 - val_loss: 0.3585 - val_accuracy: 0.8901\n",
      "Epoch 26/40\n",
      "60000/60000 [==============================] - 6s 96us/sample - loss: 0.1553 - accuracy: 0.9426 - val_loss: 0.3942 - val_accuracy: 0.8903\n",
      "Epoch 27/40\n",
      "60000/60000 [==============================] - 6s 96us/sample - loss: 0.1522 - accuracy: 0.9428 - val_loss: 0.3720 - val_accuracy: 0.8955\n",
      "Epoch 28/40\n",
      "60000/60000 [==============================] - 6s 97us/sample - loss: 0.1472 - accuracy: 0.9444 - val_loss: 0.3704 - val_accuracy: 0.8966\n",
      "Epoch 29/40\n",
      "60000/60000 [==============================] - 6s 96us/sample - loss: 0.1442 - accuracy: 0.9454 - val_loss: 0.4077 - val_accuracy: 0.8891\n",
      "Epoch 30/40\n",
      "60000/60000 [==============================] - 6s 97us/sample - loss: 0.1423 - accuracy: 0.9473 - val_loss: 0.3822 - val_accuracy: 0.8921\n",
      "Epoch 31/40\n",
      "60000/60000 [==============================] - 6s 97us/sample - loss: 0.1383 - accuracy: 0.9479 - val_loss: 0.4064 - val_accuracy: 0.8902\n",
      "Epoch 32/40\n",
      "60000/60000 [==============================] - 6s 97us/sample - loss: 0.1373 - accuracy: 0.9477 - val_loss: 0.4069 - val_accuracy: 0.8891\n",
      "Epoch 33/40\n",
      "60000/60000 [==============================] - 6s 97us/sample - loss: 0.1321 - accuracy: 0.9498 - val_loss: 0.3927 - val_accuracy: 0.8924\n",
      "Epoch 34/40\n",
      "60000/60000 [==============================] - 6s 97us/sample - loss: 0.1323 - accuracy: 0.9503 - val_loss: 0.4499 - val_accuracy: 0.8823\n",
      "Epoch 35/40\n",
      "60000/60000 [==============================] - 6s 98us/sample - loss: 0.1276 - accuracy: 0.9524 - val_loss: 0.4371 - val_accuracy: 0.8888\n",
      "Epoch 36/40\n",
      "60000/60000 [==============================] - 6s 97us/sample - loss: 0.1268 - accuracy: 0.9528 - val_loss: 0.4258 - val_accuracy: 0.8900\n",
      "Epoch 37/40\n",
      "60000/60000 [==============================] - 6s 97us/sample - loss: 0.1232 - accuracy: 0.9535 - val_loss: 0.4323 - val_accuracy: 0.8935\n",
      "Epoch 38/40\n",
      "60000/60000 [==============================] - 6s 97us/sample - loss: 0.1210 - accuracy: 0.9542 - val_loss: 0.4295 - val_accuracy: 0.8942\n",
      "Epoch 39/40\n",
      "60000/60000 [==============================] - 6s 97us/sample - loss: 0.1204 - accuracy: 0.9540 - val_loss: 0.4423 - val_accuracy: 0.8884\n",
      "Epoch 40/40\n",
      "60000/60000 [==============================] - 6s 98us/sample - loss: 0.1167 - accuracy: 0.9566 - val_loss: 0.4564 - val_accuracy: 0.8867\n"
     ]
    }
   ],
   "source": [
    "model.compile(optimizer='adam',\n",
    "              loss='sparse_categorical_crossentropy',\n",
    "              metrics=['accuracy'])\n",
    "\n",
    "\n",
    "log_dir='logs/fit/' + datetime.datetime.now().strftime('%Y%m%d-%H%M%S')\n",
    "tensorboard_callback = tf.keras.callbacks.TensorBoard(log_dir=log_dir, histogram_freq=1)\n",
    "\n",
    "# We add to the fit method the validation/test data.  This will cause the training model \n",
    "# to evaluate itself on the validation/test data on each epoch.  This provides per \n",
    "# epoch data points TensorBoard can plot so we can see the trend.\n",
    "train_hist = model.fit(train_images, train_labels, epochs=40,\n",
    "                       validation_data=(test_images, test_labels), \n",
    "                        callbacks=[tensorboard_callback])"
   ]
  },
  {
   "cell_type": "code",
   "execution_count": 21,
   "metadata": {
    "colab": {},
    "colab_type": "code",
    "id": "wx9ATGksjWyV"
   },
   "outputs": [
    {
     "data": {
      "text/html": [
       "\n",
       "      <iframe id=\"tensorboard-frame-20c00a89aef60cb7\" width=\"100%\" height=\"800\" frameborder=\"0\">\n",
       "      </iframe>\n",
       "      <script>\n",
       "        (function() {\n",
       "          const frame = document.getElementById(\"tensorboard-frame-20c00a89aef60cb7\");\n",
       "          const url = new URL(\"/\", window.location);\n",
       "          url.port = 6006;\n",
       "          frame.src = url;\n",
       "        })();\n",
       "      </script>\n",
       "  "
      ],
      "text/plain": [
       "<IPython.core.display.HTML object>"
      ]
     },
     "metadata": {},
     "output_type": "display_data"
    }
   ],
   "source": [
    "#!kill 1234   # sometimes TensorBoard does not show all data. If it shows reusing previous instance use kill command listed\n",
    "%tensorboard --logdir logs/fit"
   ]
  },
  {
   "cell_type": "markdown",
   "metadata": {
    "colab_type": "text",
    "id": "v05icTF1mDfB"
   },
   "source": [
    "## Fixing Fashion MNIST "
   ]
  },
  {
   "cell_type": "markdown",
   "metadata": {
    "colab_type": "text",
    "id": "E6zDDPjrFm17"
   },
   "source": [
    "### Reducing Model Complexity\n",
    "\n",
    "In a large model we can consider reducing the number of hidden layers.  But our model only has one hidden layer and we need it.  So the only thing to do is reduce the number of neurons in the hidden layer.  Everthing else is the same \n",
    "as above."
   ]
  },
  {
   "cell_type": "code",
   "execution_count": 22,
   "metadata": {
    "colab": {},
    "colab_type": "code",
    "id": "I1UvcFL9Qmps"
   },
   "outputs": [],
   "source": [
    "# Load the tensorboard extension\n",
    "%reload_ext tensorboard"
   ]
  },
  {
   "cell_type": "code",
   "execution_count": 23,
   "metadata": {
    "colab": {},
    "colab_type": "code",
    "id": "UNwSQKJyQmp-"
   },
   "outputs": [],
   "source": [
    "# Clear any logs from previous runs\n",
    "!rm -rf ./logs/ "
   ]
  },
  {
   "cell_type": "code",
   "execution_count": 24,
   "metadata": {
    "colab": {},
    "colab_type": "code",
    "id": "CCUSydw2QmqJ"
   },
   "outputs": [],
   "source": [
    "\n",
    "model = tf.keras.models.Sequential()      # Create a new sequential model\n",
    "model.add(tf.keras.layers.Flatten(input_shape=(28,28)))    # keras processing layer - no neurons\n",
    "model.add(tf.keras.layers.Dense(64, activation='relu', name='dense-64-relu'))   # 64 neurons connected to pixels\n",
    "#model.add(tf.keras.layers.Dense(128, activation='relu', name='dense-128-relu'))   # 128 neurons connected to pixels\n",
    "model.add(tf.keras.layers.Dense(10, activation='softmax', name='dense-10-softmax')) # determine probability of each of the 10 classes"
   ]
  },
  {
   "cell_type": "code",
   "execution_count": 25,
   "metadata": {
    "colab": {},
    "colab_type": "code",
    "id": "n8yt3SeaQmqN"
   },
   "outputs": [
    {
     "name": "stdout",
     "output_type": "stream",
     "text": [
      "Train on 60000 samples, validate on 10000 samples\n",
      "Epoch 1/40\n",
      "60000/60000 [==============================] - 5s 89us/sample - loss: 0.5109 - accuracy: 0.8237 - val_loss: 0.4374 - val_accuracy: 0.8415\n",
      "Epoch 2/40\n",
      "60000/60000 [==============================] - 5s 81us/sample - loss: 0.3896 - accuracy: 0.8594 - val_loss: 0.4038 - val_accuracy: 0.8545\n",
      "Epoch 3/40\n",
      "60000/60000 [==============================] - 5s 81us/sample - loss: 0.3530 - accuracy: 0.8723 - val_loss: 0.4119 - val_accuracy: 0.8450\n",
      "Epoch 4/40\n",
      "60000/60000 [==============================] - 5s 82us/sample - loss: 0.3270 - accuracy: 0.8820 - val_loss: 0.3928 - val_accuracy: 0.8560\n",
      "Epoch 5/40\n",
      "60000/60000 [==============================] - 5s 81us/sample - loss: 0.3080 - accuracy: 0.8876 - val_loss: 0.3649 - val_accuracy: 0.8698\n",
      "Epoch 6/40\n",
      "60000/60000 [==============================] - 5s 81us/sample - loss: 0.2954 - accuracy: 0.8905 - val_loss: 0.3526 - val_accuracy: 0.8757\n",
      "Epoch 7/40\n",
      "60000/60000 [==============================] - 5s 82us/sample - loss: 0.2814 - accuracy: 0.8961 - val_loss: 0.3513 - val_accuracy: 0.8739\n",
      "Epoch 8/40\n",
      "60000/60000 [==============================] - 5s 82us/sample - loss: 0.2722 - accuracy: 0.8993 - val_loss: 0.3683 - val_accuracy: 0.8650\n",
      "Epoch 9/40\n",
      "60000/60000 [==============================] - 5s 81us/sample - loss: 0.2642 - accuracy: 0.9033 - val_loss: 0.3427 - val_accuracy: 0.8808\n",
      "Epoch 10/40\n",
      "60000/60000 [==============================] - 5s 81us/sample - loss: 0.2562 - accuracy: 0.9048 - val_loss: 0.3403 - val_accuracy: 0.8793\n",
      "Epoch 11/40\n",
      "60000/60000 [==============================] - 5s 81us/sample - loss: 0.2499 - accuracy: 0.9077 - val_loss: 0.3521 - val_accuracy: 0.8798\n",
      "Epoch 12/40\n",
      "60000/60000 [==============================] - 5s 81us/sample - loss: 0.2413 - accuracy: 0.9103 - val_loss: 0.3458 - val_accuracy: 0.8765\n",
      "Epoch 13/40\n",
      "60000/60000 [==============================] - 5s 81us/sample - loss: 0.2344 - accuracy: 0.9125 - val_loss: 0.3473 - val_accuracy: 0.8834\n",
      "Epoch 14/40\n",
      "60000/60000 [==============================] - 5s 84us/sample - loss: 0.2308 - accuracy: 0.9133 - val_loss: 0.3389 - val_accuracy: 0.8862\n",
      "Epoch 15/40\n",
      "60000/60000 [==============================] - 5s 81us/sample - loss: 0.2228 - accuracy: 0.9158 - val_loss: 0.3464 - val_accuracy: 0.8811\n",
      "Epoch 16/40\n",
      "60000/60000 [==============================] - 5s 81us/sample - loss: 0.2190 - accuracy: 0.9190 - val_loss: 0.3553 - val_accuracy: 0.8823\n",
      "Epoch 17/40\n",
      "60000/60000 [==============================] - 5s 82us/sample - loss: 0.2141 - accuracy: 0.9194 - val_loss: 0.3427 - val_accuracy: 0.8844\n",
      "Epoch 18/40\n",
      "60000/60000 [==============================] - 5s 82us/sample - loss: 0.2082 - accuracy: 0.9229 - val_loss: 0.3627 - val_accuracy: 0.8757\n",
      "Epoch 19/40\n",
      "60000/60000 [==============================] - 5s 81us/sample - loss: 0.2068 - accuracy: 0.9221 - val_loss: 0.3503 - val_accuracy: 0.8850\n",
      "Epoch 20/40\n",
      "60000/60000 [==============================] - 5s 82us/sample - loss: 0.2012 - accuracy: 0.9235 - val_loss: 0.3697 - val_accuracy: 0.8797\n",
      "Epoch 21/40\n",
      "60000/60000 [==============================] - 5s 82us/sample - loss: 0.1965 - accuracy: 0.9259 - val_loss: 0.3729 - val_accuracy: 0.8774\n",
      "Epoch 22/40\n",
      "60000/60000 [==============================] - 5s 85us/sample - loss: 0.1924 - accuracy: 0.9288 - val_loss: 0.3771 - val_accuracy: 0.8778\n",
      "Epoch 23/40\n",
      "60000/60000 [==============================] - 5s 82us/sample - loss: 0.1897 - accuracy: 0.9288 - val_loss: 0.3868 - val_accuracy: 0.8804\n",
      "Epoch 24/40\n",
      "60000/60000 [==============================] - 5s 82us/sample - loss: 0.1858 - accuracy: 0.9301 - val_loss: 0.3748 - val_accuracy: 0.8782\n",
      "Epoch 25/40\n",
      "60000/60000 [==============================] - 5s 81us/sample - loss: 0.1820 - accuracy: 0.9306 - val_loss: 0.3980 - val_accuracy: 0.8745\n",
      "Epoch 26/40\n",
      "60000/60000 [==============================] - 5s 81us/sample - loss: 0.1801 - accuracy: 0.9326 - val_loss: 0.3706 - val_accuracy: 0.8845\n",
      "Epoch 27/40\n",
      "60000/60000 [==============================] - 5s 82us/sample - loss: 0.1762 - accuracy: 0.9339 - val_loss: 0.3796 - val_accuracy: 0.8883\n",
      "Epoch 28/40\n",
      "60000/60000 [==============================] - 5s 82us/sample - loss: 0.1735 - accuracy: 0.9352 - val_loss: 0.4009 - val_accuracy: 0.8784\n",
      "Epoch 29/40\n",
      "60000/60000 [==============================] - 5s 81us/sample - loss: 0.1696 - accuracy: 0.9357 - val_loss: 0.3851 - val_accuracy: 0.8834\n",
      "Epoch 30/40\n",
      "60000/60000 [==============================] - 5s 87us/sample - loss: 0.1687 - accuracy: 0.9365 - val_loss: 0.3974 - val_accuracy: 0.8823\n",
      "Epoch 31/40\n",
      "60000/60000 [==============================] - 5s 87us/sample - loss: 0.1653 - accuracy: 0.9377 - val_loss: 0.4140 - val_accuracy: 0.8837\n",
      "Epoch 32/40\n",
      "60000/60000 [==============================] - 5s 83us/sample - loss: 0.1629 - accuracy: 0.9396 - val_loss: 0.4096 - val_accuracy: 0.8813\n",
      "Epoch 33/40\n",
      "60000/60000 [==============================] - 5s 83us/sample - loss: 0.1589 - accuracy: 0.9409 - val_loss: 0.3934 - val_accuracy: 0.8864\n",
      "Epoch 34/40\n",
      "60000/60000 [==============================] - 5s 82us/sample - loss: 0.1573 - accuracy: 0.9412 - val_loss: 0.4135 - val_accuracy: 0.8816\n",
      "Epoch 35/40\n",
      "60000/60000 [==============================] - 5s 82us/sample - loss: 0.1550 - accuracy: 0.9419 - val_loss: 0.4105 - val_accuracy: 0.8826\n",
      "Epoch 36/40\n",
      "60000/60000 [==============================] - 5s 82us/sample - loss: 0.1537 - accuracy: 0.9430 - val_loss: 0.4318 - val_accuracy: 0.8803\n",
      "Epoch 37/40\n",
      "60000/60000 [==============================] - 5s 82us/sample - loss: 0.1508 - accuracy: 0.9434 - val_loss: 0.4405 - val_accuracy: 0.8837\n",
      "Epoch 38/40\n",
      "60000/60000 [==============================] - 5s 82us/sample - loss: 0.1479 - accuracy: 0.9449 - val_loss: 0.4320 - val_accuracy: 0.8814\n",
      "Epoch 39/40\n",
      "60000/60000 [==============================] - 5s 82us/sample - loss: 0.1478 - accuracy: 0.9438 - val_loss: 0.4328 - val_accuracy: 0.8829\n",
      "Epoch 40/40\n",
      "60000/60000 [==============================] - 5s 82us/sample - loss: 0.1452 - accuracy: 0.9451 - val_loss: 0.4353 - val_accuracy: 0.8835\n"
     ]
    }
   ],
   "source": [
    "model.compile(optimizer='adam',\n",
    "              loss='sparse_categorical_crossentropy',\n",
    "              metrics=['accuracy'])\n",
    "\n",
    "\n",
    "log_dir= 'logs/fit/' + datetime.datetime.now().strftime('%Y%m%d-%H%M%S')\n",
    "tensorboard_callback = tf.keras.callbacks.TensorBoard(log_dir=log_dir, histogram_freq=1)\n",
    "\n",
    "# We add to the fit method the validation/test data.  This will cause the training model \n",
    "# to evaluate itself on the validation/test data on each epoch.  This provides per \n",
    "# epoch data points TensorBoard can plot so we can see the trend.\n",
    "train_hist = model.fit(train_images, train_labels, epochs=40,\n",
    "                       validation_data=(test_images, test_labels), \n",
    "                        callbacks=[tensorboard_callback])"
   ]
  },
  {
   "cell_type": "markdown",
   "metadata": {
    "colab_type": "text",
    "id": "Ke-rDI6UmGaX"
   },
   "source": [
    "Show the results with TensorBoard"
   ]
  },
  {
   "cell_type": "code",
   "execution_count": 26,
   "metadata": {
    "colab": {},
    "colab_type": "code",
    "id": "hox4ABkzmFWm"
   },
   "outputs": [
    {
     "data": {
      "text/plain": [
       "Reusing TensorBoard on port 6006 (pid 2245), started 0:03:18 ago. (Use '!kill 2245' to kill it.)"
      ]
     },
     "metadata": {},
     "output_type": "display_data"
    },
    {
     "data": {
      "text/html": [
       "\n",
       "      <iframe id=\"tensorboard-frame-af67992fb227afd1\" width=\"100%\" height=\"800\" frameborder=\"0\">\n",
       "      </iframe>\n",
       "      <script>\n",
       "        (function() {\n",
       "          const frame = document.getElementById(\"tensorboard-frame-af67992fb227afd1\");\n",
       "          const url = new URL(\"/\", window.location);\n",
       "          url.port = 6006;\n",
       "          frame.src = url;\n",
       "        })();\n",
       "      </script>\n",
       "  "
      ],
      "text/plain": [
       "<IPython.core.display.HTML object>"
      ]
     },
     "metadata": {},
     "output_type": "display_data"
    }
   ],
   "source": [
    "#!kill 1234   # sometime TensorBoard does not show all data.  If it shows reusing previous instance use kill command listed\n",
    "%tensorboard --logdir logs/fit"
   ]
  },
  {
   "cell_type": "markdown",
   "metadata": {
    "colab_type": "text",
    "id": "qBwxV4HjFOwT"
   },
   "source": [
    "### Randomly dropout some neurons\n",
    "\n",
    "To randomly shut down the contribution from some neurons, we add a Keras dropout layer.  This layer randomly sets the outputs from the previous layer to 0.  How many outputs are set to 0 is defined by the parameter we pass.  To set 50% of \n",
    "the outputs to 0 pass 0.5.  For 20% pass 0.2.\n",
    "\n",
    "Also, the decision on which connections get dropped is a random selection that \n",
    "changes from epoch to epoch."
   ]
  },
  {
   "cell_type": "code",
   "execution_count": 27,
   "metadata": {
    "colab": {},
    "colab_type": "code",
    "id": "xSMjk8zBpc2A"
   },
   "outputs": [],
   "source": [
    "# Load the tensorboard extension\n",
    "%reload_ext tensorboard"
   ]
  },
  {
   "cell_type": "code",
   "execution_count": 28,
   "metadata": {
    "colab": {},
    "colab_type": "code",
    "id": "3GcFNsSBpc2O"
   },
   "outputs": [],
   "source": [
    "# Clear any logs from previous runs\n",
    "!rm -rf ./logs/ "
   ]
  },
  {
   "cell_type": "code",
   "execution_count": 29,
   "metadata": {
    "colab": {},
    "colab_type": "code",
    "id": "W9SazRfplKGA"
   },
   "outputs": [],
   "source": [
    "model = tf.keras.models.Sequential()      # Create a new sequential model\n",
    "model.add(tf.keras.layers.Flatten(input_shape=(28,28)))    # keras processing layer - no neurons\n",
    "model.add(tf.keras.layers.Dense(128, activation='relu', name='dense-128-relu'))   # 128 neurons connected to pixels\n",
    "model.add(tf.keras.layers.Dropout(0.2))  # dropout 20%\n",
    "model.add(tf.keras.layers.Dense(10, activation='softmax', name='dense-10-softmax')) # determine probability of each of the 10 classes"
   ]
  },
  {
   "cell_type": "code",
   "execution_count": 30,
   "metadata": {
    "colab": {},
    "colab_type": "code",
    "id": "OM9BuhuBlWo0"
   },
   "outputs": [],
   "source": [
    "model.compile(optimizer='adam',\n",
    "              loss='sparse_categorical_crossentropy',\n",
    "              metrics=['accuracy'])"
   ]
  },
  {
   "cell_type": "code",
   "execution_count": 31,
   "metadata": {
    "colab": {},
    "colab_type": "code",
    "id": "jM5sr1YGlcIb"
   },
   "outputs": [
    {
     "name": "stdout",
     "output_type": "stream",
     "text": [
      "Train on 60000 samples, validate on 10000 samples\n",
      "Epoch 1/40\n",
      "60000/60000 [==============================] - 7s 111us/sample - loss: 0.5263 - accuracy: 0.8141 - val_loss: 0.4219 - val_accuracy: 0.8464\n",
      "Epoch 2/40\n",
      "60000/60000 [==============================] - 6s 104us/sample - loss: 0.3959 - accuracy: 0.8558 - val_loss: 0.3919 - val_accuracy: 0.8586\n",
      "Epoch 3/40\n",
      "60000/60000 [==============================] - 6s 103us/sample - loss: 0.3648 - accuracy: 0.8659 - val_loss: 0.3682 - val_accuracy: 0.8691\n",
      "Epoch 4/40\n",
      "60000/60000 [==============================] - 6s 103us/sample - loss: 0.3444 - accuracy: 0.8743 - val_loss: 0.3626 - val_accuracy: 0.8674\n",
      "Epoch 5/40\n",
      "60000/60000 [==============================] - 6s 104us/sample - loss: 0.3282 - accuracy: 0.8774 - val_loss: 0.3566 - val_accuracy: 0.8702\n",
      "Epoch 6/40\n",
      "60000/60000 [==============================] - 6s 106us/sample - loss: 0.3155 - accuracy: 0.8831 - val_loss: 0.3446 - val_accuracy: 0.8781\n",
      "Epoch 7/40\n",
      "60000/60000 [==============================] - 6s 103us/sample - loss: 0.3072 - accuracy: 0.8871 - val_loss: 0.3526 - val_accuracy: 0.8748\n",
      "Epoch 8/40\n",
      "60000/60000 [==============================] - 6s 104us/sample - loss: 0.2984 - accuracy: 0.8886 - val_loss: 0.3438 - val_accuracy: 0.8730\n",
      "Epoch 9/40\n",
      "60000/60000 [==============================] - 6s 104us/sample - loss: 0.2891 - accuracy: 0.8923 - val_loss: 0.3448 - val_accuracy: 0.8787\n",
      "Epoch 10/40\n",
      "60000/60000 [==============================] - 6s 104us/sample - loss: 0.2846 - accuracy: 0.8926 - val_loss: 0.3373 - val_accuracy: 0.8827\n",
      "Epoch 11/40\n",
      "60000/60000 [==============================] - 6s 104us/sample - loss: 0.2765 - accuracy: 0.8952 - val_loss: 0.3456 - val_accuracy: 0.8745\n",
      "Epoch 12/40\n",
      "60000/60000 [==============================] - 6s 104us/sample - loss: 0.2728 - accuracy: 0.8974 - val_loss: 0.3464 - val_accuracy: 0.8775\n",
      "Epoch 13/40\n",
      "60000/60000 [==============================] - 6s 104us/sample - loss: 0.2670 - accuracy: 0.8997 - val_loss: 0.3331 - val_accuracy: 0.8854\n",
      "Epoch 14/40\n",
      "60000/60000 [==============================] - 6s 104us/sample - loss: 0.2624 - accuracy: 0.9014 - val_loss: 0.3476 - val_accuracy: 0.8776\n",
      "Epoch 15/40\n",
      "60000/60000 [==============================] - 6s 104us/sample - loss: 0.2572 - accuracy: 0.9026 - val_loss: 0.3294 - val_accuracy: 0.8844\n",
      "Epoch 16/40\n",
      "60000/60000 [==============================] - 6s 103us/sample - loss: 0.2514 - accuracy: 0.9042 - val_loss: 0.3277 - val_accuracy: 0.8870\n",
      "Epoch 17/40\n",
      "60000/60000 [==============================] - 6s 103us/sample - loss: 0.2500 - accuracy: 0.9057 - val_loss: 0.3477 - val_accuracy: 0.8822\n",
      "Epoch 18/40\n",
      "60000/60000 [==============================] - 6s 108us/sample - loss: 0.2469 - accuracy: 0.9067 - val_loss: 0.3614 - val_accuracy: 0.8723\n",
      "Epoch 19/40\n",
      "60000/60000 [==============================] - 7s 109us/sample - loss: 0.2425 - accuracy: 0.9091 - val_loss: 0.3498 - val_accuracy: 0.8840\n",
      "Epoch 20/40\n",
      "60000/60000 [==============================] - 6s 107us/sample - loss: 0.2384 - accuracy: 0.9105 - val_loss: 0.3481 - val_accuracy: 0.8860\n",
      "Epoch 21/40\n",
      "60000/60000 [==============================] - 6s 104us/sample - loss: 0.2358 - accuracy: 0.9109 - val_loss: 0.3525 - val_accuracy: 0.8834\n",
      "Epoch 22/40\n",
      "60000/60000 [==============================] - 6s 103us/sample - loss: 0.2325 - accuracy: 0.9110 - val_loss: 0.3436 - val_accuracy: 0.8883\n",
      "Epoch 23/40\n",
      "60000/60000 [==============================] - 7s 114us/sample - loss: 0.2274 - accuracy: 0.9131 - val_loss: 0.3421 - val_accuracy: 0.8861\n",
      "Epoch 24/40\n",
      "60000/60000 [==============================] - 6s 104us/sample - loss: 0.2250 - accuracy: 0.9141 - val_loss: 0.3456 - val_accuracy: 0.8881\n",
      "Epoch 25/40\n",
      "60000/60000 [==============================] - 6s 107us/sample - loss: 0.2242 - accuracy: 0.9146 - val_loss: 0.3476 - val_accuracy: 0.8858\n",
      "Epoch 26/40\n",
      "60000/60000 [==============================] - 6s 104us/sample - loss: 0.2215 - accuracy: 0.9160 - val_loss: 0.3485 - val_accuracy: 0.8866\n",
      "Epoch 27/40\n",
      "60000/60000 [==============================] - 6s 106us/sample - loss: 0.2158 - accuracy: 0.9173 - val_loss: 0.3500 - val_accuracy: 0.8882\n",
      "Epoch 28/40\n",
      "60000/60000 [==============================] - 6s 106us/sample - loss: 0.2151 - accuracy: 0.9189 - val_loss: 0.3442 - val_accuracy: 0.8855\n",
      "Epoch 29/40\n",
      "60000/60000 [==============================] - 6s 104us/sample - loss: 0.2132 - accuracy: 0.9181 - val_loss: 0.3626 - val_accuracy: 0.8874\n",
      "Epoch 30/40\n",
      "60000/60000 [==============================] - 6s 105us/sample - loss: 0.2108 - accuracy: 0.9191 - val_loss: 0.3508 - val_accuracy: 0.8874\n",
      "Epoch 31/40\n",
      "60000/60000 [==============================] - 6s 105us/sample - loss: 0.2086 - accuracy: 0.9203 - val_loss: 0.3442 - val_accuracy: 0.8887\n",
      "Epoch 32/40\n",
      "60000/60000 [==============================] - 6s 105us/sample - loss: 0.2059 - accuracy: 0.9207 - val_loss: 0.3666 - val_accuracy: 0.8895\n",
      "Epoch 33/40\n",
      "60000/60000 [==============================] - 7s 109us/sample - loss: 0.2036 - accuracy: 0.9215 - val_loss: 0.3583 - val_accuracy: 0.8895\n",
      "Epoch 34/40\n",
      "60000/60000 [==============================] - 6s 106us/sample - loss: 0.2042 - accuracy: 0.9224 - val_loss: 0.3583 - val_accuracy: 0.8868\n",
      "Epoch 35/40\n",
      "60000/60000 [==============================] - 6s 106us/sample - loss: 0.2008 - accuracy: 0.9234 - val_loss: 0.3570 - val_accuracy: 0.8880\n",
      "Epoch 36/40\n",
      "60000/60000 [==============================] - 6s 105us/sample - loss: 0.1963 - accuracy: 0.9246 - val_loss: 0.3732 - val_accuracy: 0.8888\n",
      "Epoch 37/40\n",
      "60000/60000 [==============================] - 6s 105us/sample - loss: 0.1950 - accuracy: 0.9245 - val_loss: 0.3530 - val_accuracy: 0.8920\n",
      "Epoch 38/40\n",
      "60000/60000 [==============================] - 6s 105us/sample - loss: 0.1950 - accuracy: 0.9245 - val_loss: 0.3822 - val_accuracy: 0.8876\n",
      "Epoch 39/40\n",
      "60000/60000 [==============================] - 6s 103us/sample - loss: 0.1928 - accuracy: 0.9257 - val_loss: 0.3830 - val_accuracy: 0.8895\n",
      "Epoch 40/40\n",
      "60000/60000 [==============================] - 6s 106us/sample - loss: 0.1917 - accuracy: 0.9273 - val_loss: 0.3809 - val_accuracy: 0.8904\n"
     ]
    },
    {
     "data": {
      "text/plain": [
       "<tensorflow.python.keras.callbacks.History at 0x7fb23acf87d0>"
      ]
     },
     "execution_count": 31,
     "metadata": {},
     "output_type": "execute_result"
    }
   ],
   "source": [
    "log_dir='logs/fit/' + datetime.datetime.now().strftime('%Y%m%d-%H%M%S')\n",
    "tensorboard_callback = tf.keras.callbacks.TensorBoard(log_dir=log_dir, histogram_freq=1)\n",
    "\n",
    "model.fit(x=train_images, \n",
    "          y=train_labels, \n",
    "          epochs=40, \n",
    "          validation_data=(test_images, test_labels), \n",
    "          callbacks=[tensorboard_callback])\n"
   ]
  },
  {
   "cell_type": "code",
   "execution_count": 32,
   "metadata": {
    "colab": {},
    "colab_type": "code",
    "id": "qlUy6ZlRlOZ8"
   },
   "outputs": [
    {
     "data": {
      "text/plain": [
       "Reusing TensorBoard on port 6006 (pid 2245), started 0:07:31 ago. (Use '!kill 2245' to kill it.)"
      ]
     },
     "metadata": {},
     "output_type": "display_data"
    },
    {
     "data": {
      "text/html": [
       "\n",
       "      <iframe id=\"tensorboard-frame-b5280e582da661f5\" width=\"100%\" height=\"800\" frameborder=\"0\">\n",
       "      </iframe>\n",
       "      <script>\n",
       "        (function() {\n",
       "          const frame = document.getElementById(\"tensorboard-frame-b5280e582da661f5\");\n",
       "          const url = new URL(\"/\", window.location);\n",
       "          url.port = 6006;\n",
       "          frame.src = url;\n",
       "        })();\n",
       "      </script>\n",
       "  "
      ],
      "text/plain": [
       "<IPython.core.display.HTML object>"
      ]
     },
     "metadata": {},
     "output_type": "display_data"
    }
   ],
   "source": [
    "#!kill 1234   # sometime TensorBoard does not show all data.  If it shows reusing previous instance use kill command listed\n",
    "%tensorboard --logdir logs/fit"
   ]
  },
  {
   "cell_type": "markdown",
   "metadata": {
    "colab_type": "text",
    "id": "3wrym729ZWre"
   },
   "source": [
    "### Implementing Early Stopping\n",
    "\n",
    "Early stopping involves having the training stop when the model has been trained enough.  \n",
    "\n",
    "Often training is slow in terms of time, and expensive in terms of compute time on big clusters or a cloud service.  So it is useful to be able to stop training as soon as reasonable.  And reasonable is usually when the metric like lose quits decreasing.  So the question is, how can we know when the loss quits decreasing?  \n",
    "\n",
    "We could run a bunch of trials and use a tool like TensorBoard to plot curves.  But it is tedious to write a model with 20 epochs, run it, see loss was decreasing, then repeat that with 40 epochs, etc.  Worse, if we change the model or it's parameters, like adjusting the dropout percentage, the number of epochs required to see when the loss stops decreasing might be different.\n",
    "\n",
    "So what we need is an automated way to detect when training has quit improving and terminate training.  And fortunately Keras has an early stopping feature that does just this!"
   ]
  },
  {
   "cell_type": "markdown",
   "metadata": {
    "colab_type": "text",
    "id": "_lKTkBVvN2dI"
   },
   "source": [
    "We start with the same model, optimizer, loss, and log clearing code as before."
   ]
  },
  {
   "cell_type": "code",
   "execution_count": 33,
   "metadata": {
    "colab": {},
    "colab_type": "code",
    "id": "D0FSUxUT3Cuf"
   },
   "outputs": [],
   "source": [
    "# Load the tensorboard extension\n",
    "%reload_ext tensorboard"
   ]
  },
  {
   "cell_type": "code",
   "execution_count": 34,
   "metadata": {
    "colab": {},
    "colab_type": "code",
    "id": "dGm6LMEL2--j"
   },
   "outputs": [],
   "source": [
    "# Clear any logs from previous runs\n",
    "!rm -rf ./logs/ "
   ]
  },
  {
   "cell_type": "code",
   "execution_count": 35,
   "metadata": {
    "colab": {},
    "colab_type": "code",
    "id": "62luPqB8NqaI"
   },
   "outputs": [],
   "source": [
    "model = tf.keras.models.Sequential()      # Create a new sequential model\n",
    "model.add(tf.keras.layers.Flatten(input_shape=(28,28)))    # keras processing layer - no neurons\n",
    "model.add(tf.keras.layers.Dense(128, activation='relu', name='dense-128-relu'))   # 128 neurons connected to pixels\n",
    "model.add(tf.keras.layers.Dense(10, activation='softmax', name='dense-10-softmax')) # determine probability of each of the 10 classes"
   ]
  },
  {
   "cell_type": "code",
   "execution_count": 36,
   "metadata": {
    "colab": {},
    "colab_type": "code",
    "id": "ROXcHFavNqaS"
   },
   "outputs": [],
   "source": [
    "model.compile(optimizer='adam',\n",
    "              loss='sparse_categorical_crossentropy',\n",
    "              metrics=['accuracy'])"
   ]
  },
  {
   "cell_type": "markdown",
   "metadata": {
    "colab_type": "text",
    "id": "F6TY_BVDOou_"
   },
   "source": [
    "We create a new EarlyStopping callback.\n",
    "\n",
    "And we set the **monitor** parameter to the parameter to monitor, which is **validation loss**. And the  **patience** parameter to the maximum number of epochs without improvement allowed.  And if the parameter does not improve within the patience number of epochs, the training will be terminated.\n",
    "\n",
    "This new callback gets added to the list of callbacks."
   ]
  },
  {
   "cell_type": "code",
   "execution_count": 37,
   "metadata": {
    "colab": {},
    "colab_type": "code",
    "id": "1o3tiyB_NyhV"
   },
   "outputs": [
    {
     "name": "stdout",
     "output_type": "stream",
     "text": [
      "Train on 60000 samples, validate on 10000 samples\n",
      "Epoch 1/40\n",
      "60000/60000 [==============================] - 7s 111us/sample - loss: 0.5010 - accuracy: 0.8236 - val_loss: 0.4320 - val_accuracy: 0.8457\n",
      "Epoch 2/40\n",
      "60000/60000 [==============================] - 6s 100us/sample - loss: 0.3750 - accuracy: 0.8660 - val_loss: 0.3858 - val_accuracy: 0.8608\n",
      "Epoch 3/40\n",
      "60000/60000 [==============================] - 6s 100us/sample - loss: 0.3352 - accuracy: 0.8776 - val_loss: 0.3775 - val_accuracy: 0.8655\n",
      "Epoch 4/40\n",
      "60000/60000 [==============================] - 6s 99us/sample - loss: 0.3149 - accuracy: 0.8844 - val_loss: 0.3543 - val_accuracy: 0.8745\n",
      "Epoch 5/40\n",
      "60000/60000 [==============================] - 6s 99us/sample - loss: 0.2940 - accuracy: 0.8922 - val_loss: 0.3485 - val_accuracy: 0.8754\n",
      "Epoch 6/40\n",
      "60000/60000 [==============================] - 6s 105us/sample - loss: 0.2815 - accuracy: 0.8961 - val_loss: 0.3466 - val_accuracy: 0.8791\n",
      "Epoch 7/40\n",
      "60000/60000 [==============================] - 6s 100us/sample - loss: 0.2689 - accuracy: 0.9005 - val_loss: 0.3281 - val_accuracy: 0.8825\n",
      "Epoch 8/40\n",
      "60000/60000 [==============================] - 6s 101us/sample - loss: 0.2568 - accuracy: 0.9042 - val_loss: 0.3368 - val_accuracy: 0.8833\n",
      "Epoch 9/40\n",
      "60000/60000 [==============================] - 6s 99us/sample - loss: 0.2477 - accuracy: 0.9087 - val_loss: 0.3328 - val_accuracy: 0.8828\n",
      "Epoch 10/40\n",
      "60000/60000 [==============================] - 6s 100us/sample - loss: 0.2386 - accuracy: 0.9100 - val_loss: 0.3569 - val_accuracy: 0.8759\n",
      "Epoch 11/40\n",
      "60000/60000 [==============================] - 6s 100us/sample - loss: 0.2315 - accuracy: 0.9133 - val_loss: 0.3658 - val_accuracy: 0.8748\n"
     ]
    },
    {
     "data": {
      "text/plain": [
       "<tensorflow.python.keras.callbacks.History at 0x7fb1f8638c50>"
      ]
     },
     "execution_count": 37,
     "metadata": {},
     "output_type": "execute_result"
    }
   ],
   "source": [
    "log_dir='logs/fit/' + datetime.datetime.now().strftime('%Y%m%d-%H%M%S')\n",
    "tensorboard_callback = tf.keras.callbacks.TensorBoard(log_dir=log_dir, histogram_freq=1)\n",
    "early_stopping_callback = tf.keras.callbacks.EarlyStopping(monitor='val_loss', patience=4)\n",
    "\n",
    "model.fit(x=train_images, \n",
    "          y=train_labels, \n",
    "          epochs=40, \n",
    "          validation_data=(test_images, test_labels), \n",
    "          callbacks=[tensorboard_callback, early_stopping_callback])"
   ]
  },
  {
   "cell_type": "code",
   "execution_count": 38,
   "metadata": {
    "colab": {},
    "colab_type": "code",
    "id": "vUIOxIxcQSRH"
   },
   "outputs": [
    {
     "data": {
      "text/plain": [
       "Reusing TensorBoard on port 6006 (pid 2245), started 0:08:38 ago. (Use '!kill 2245' to kill it.)"
      ]
     },
     "metadata": {},
     "output_type": "display_data"
    },
    {
     "data": {
      "text/html": [
       "\n",
       "      <iframe id=\"tensorboard-frame-8237d7bcaf43a1fb\" width=\"100%\" height=\"800\" frameborder=\"0\">\n",
       "      </iframe>\n",
       "      <script>\n",
       "        (function() {\n",
       "          const frame = document.getElementById(\"tensorboard-frame-8237d7bcaf43a1fb\");\n",
       "          const url = new URL(\"/\", window.location);\n",
       "          url.port = 6006;\n",
       "          frame.src = url;\n",
       "        })();\n",
       "      </script>\n",
       "  "
      ],
      "text/plain": [
       "<IPython.core.display.HTML object>"
      ]
     },
     "metadata": {},
     "output_type": "display_data"
    }
   ],
   "source": [
    "#!kill 1234   # sometime TensorBoard does not show all data.  If it shows reusing previous instance use kill command listed\n",
    "%tensorboard --logdir logs/fit"
   ]
  },
  {
   "cell_type": "markdown",
   "metadata": {
    "colab_type": "text",
    "id": "AwGPItyphqXT"
   },
   "source": [
    "## Save Model\n",
    "\n",
    "Now that we have our model working well.  We can save it for reuse.\n",
    "\n",
    "By saving the model's structure and the associated trained weights we preserve our work.  Those weights are well over 101,000 values for which we had to work hard to get to the proper numbers!!\n"
   ]
  },
  {
   "cell_type": "code",
   "execution_count": 39,
   "metadata": {
    "colab": {},
    "colab_type": "code",
    "id": "0w5Rq8SsgWE6"
   },
   "outputs": [
    {
     "name": "stdout",
     "output_type": "stream",
     "text": [
      "Saving model to : /var/folders/sq/p495tjk900x4_c97r6cbwj9m0000gn/T/1\n",
      "\n",
      "WARNING:tensorflow:From /Users/bryanyu1/opt/anaconda3/envs/tf/lib/python3.7/site-packages/tensorflow_core/python/ops/resource_variable_ops.py:1781: calling BaseResourceVariable.__init__ (from tensorflow.python.ops.resource_variable_ops) with constraint is deprecated and will be removed in a future version.\n",
      "Instructions for updating:\n",
      "If using Keras pass *_constraint arguments to layers.\n",
      "INFO:tensorflow:Assets written to: /var/folders/sq/p495tjk900x4_c97r6cbwj9m0000gn/T/1/assets\n",
      "Model saved\n"
     ]
    }
   ],
   "source": [
    "# We use the Python tempfile library to create files in a generated folder.  \n",
    "# If you want to used a defined path, replace this code with your own \n",
    "# path definitions. \n",
    "import tempfile\n",
    "# import os\n",
    "\n",
    "# get the tempfile location for this session\n",
    "MODEL_DIR = tempfile.gettempdir()\n",
    "version = 1   # NOTE: Adjust if you don't want to replace a version of your model\n",
    "export_path = os.path.join(MODEL_DIR, str(version))  # the final path includes the version\n",
    "print('Saving model to : {}\\n'.format(export_path))\n",
    "\n",
    "# if path already exists delete everything at the location\n",
    "if os.path.isdir(export_path):\n",
    "  print('\\nPreviously saved model found, deleting it\\n')\n",
    "  !rm -r {export_path}\n",
    "\n",
    "# Save the model  \n",
    "tf.saved_model.save(model, export_path)\n",
    "\n",
    "# Print save complete message\n",
    "print('Model saved')\n"
   ]
  }
 ],
 "metadata": {
  "accelerator": "GPU",
  "colab": {
   "collapsed_sections": [],
   "name": "Fashion_MNIST.ipynb",
   "provenance": []
  },
  "kernelspec": {
   "display_name": "Python 3",
   "language": "python",
   "name": "python3"
  },
  "language_info": {
   "codemirror_mode": {
    "name": "ipython",
    "version": 3
   },
   "file_extension": ".py",
   "mimetype": "text/x-python",
   "name": "python",
   "nbconvert_exporter": "python",
   "pygments_lexer": "ipython3",
   "version": "3.7.10"
  }
 },
 "nbformat": 4,
 "nbformat_minor": 1
}
